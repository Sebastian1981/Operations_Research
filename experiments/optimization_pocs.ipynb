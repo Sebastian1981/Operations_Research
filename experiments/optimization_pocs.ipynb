{
 "cells": [
  {
   "cell_type": "markdown",
   "metadata": {},
   "source": [
    "# Let´s do some explorations on different optimization use cases\n",
    "\n",
    "Ressources: https://towardsdatascience.com/how-to-develop-optimization-models-in-python-1a03ef72f5b4"
   ]
  },
  {
   "cell_type": "code",
   "execution_count": 1,
   "metadata": {},
   "outputs": [],
   "source": [
    "import numpy as np\n",
    "import pandas as pd\n",
    "import matplotlib.pyplot as plt\n",
    "import plotly.express as px\n",
    "import pulp\n",
    "from pulp import *\n",
    "from geneticalgorithm import geneticalgorithm as ga"
   ]
  },
  {
   "cell_type": "markdown",
   "metadata": {},
   "source": [
    "## Use Case 1 - Maximize Profit in a Bakery:\n",
    "- A bakery makes cakes and pies every day. \n",
    "- It can make a total of 30 items in one day, which at least must be 5 cakes and 10 pies for its planned customers. \n",
    "- The 400m_gains on each cake is $1.5 and the 400m_gains on each pie is $2.00. \n",
    "- How many cakes and pies should be made to maximize the 400m_gains?"
   ]
  },
  {
   "cell_type": "markdown",
   "metadata": {},
   "source": [
    "### Solution Approach #1: Monte-Carlo Simulation using Random Search"
   ]
  },
  {
   "cell_type": "code",
   "execution_count": 2,
   "metadata": {},
   "outputs": [
    {
     "name": "stdout",
     "output_type": "stream",
     "text": [
      "The bakery should bake 25 pies and 5 cakes to maximize profit of 57.5 $\n"
     ]
    }
   ],
   "source": [
    "cakes = []\n",
    "pies = []\n",
    "profits = []\n",
    "n = 1000\n",
    "# loop over random number of cakes between 0<= c <=30\n",
    "for _ in range(n):\n",
    "    c = int(np.random.uniform(low=0, high=30, size=1)) \n",
    "    # loop over random number of pies between 0<= p <=30\n",
    "    for _ in range(n):\n",
    "        p = int(np.random.uniform(low=0, high=30, size=1))\n",
    "        # check boundary conditions\n",
    "        if c + p <= 30 and c>=5 and p>=10:\n",
    "            profit = 1.5*c + 2.0*p\n",
    "            cakes.append(c)\n",
    "            pies.append(p)\n",
    "            profits.append(profit)\n",
    "\n",
    "# make dataframe\n",
    "d = {'cakes': cakes, 'pies': pies, 'profit': profits}\n",
    "mcs_results = pd.DataFrame(data=d)\n",
    "# drop duplicates\n",
    "mcs_results = mcs_results.drop_duplicates()\n",
    "# sort by profits\n",
    "mcs_results = mcs_results.sort_values(by='profit', ascending=False) \n",
    "# find best parameters to optimize profit\n",
    "p_opt = int(mcs_results.iloc[0,:].pies)\n",
    "c_opt  = int(mcs_results.iloc[0,:].cakes)\n",
    "profit_max = mcs_results.iloc[0,:].profit\n",
    "print('The bakery should bake {} pies and {} cakes to maximize profit of {} $'.format(p_opt, c_opt, profit_max))        "
   ]
  },
  {
   "cell_type": "code",
   "execution_count": 3,
   "metadata": {},
   "outputs": [
    {
     "data": {
      "text/html": [
       "<div>\n",
       "<style scoped>\n",
       "    .dataframe tbody tr th:only-of-type {\n",
       "        vertical-align: middle;\n",
       "    }\n",
       "\n",
       "    .dataframe tbody tr th {\n",
       "        vertical-align: top;\n",
       "    }\n",
       "\n",
       "    .dataframe thead th {\n",
       "        text-align: right;\n",
       "    }\n",
       "</style>\n",
       "<table border=\"1\" class=\"dataframe\">\n",
       "  <thead>\n",
       "    <tr style=\"text-align: right;\">\n",
       "      <th></th>\n",
       "      <th>cakes</th>\n",
       "      <th>pies</th>\n",
       "      <th>profit</th>\n",
       "    </tr>\n",
       "  </thead>\n",
       "  <tbody>\n",
       "    <tr>\n",
       "      <th>3411</th>\n",
       "      <td>5</td>\n",
       "      <td>25</td>\n",
       "      <td>57.5</td>\n",
       "    </tr>\n",
       "    <tr>\n",
       "      <th>2928</th>\n",
       "      <td>6</td>\n",
       "      <td>24</td>\n",
       "      <td>57.0</td>\n",
       "    </tr>\n",
       "    <tr>\n",
       "      <th>12</th>\n",
       "      <td>7</td>\n",
       "      <td>23</td>\n",
       "      <td>56.5</td>\n",
       "    </tr>\n",
       "    <tr>\n",
       "      <th>11830</th>\n",
       "      <td>8</td>\n",
       "      <td>22</td>\n",
       "      <td>56.0</td>\n",
       "    </tr>\n",
       "    <tr>\n",
       "      <th>1481</th>\n",
       "      <td>9</td>\n",
       "      <td>21</td>\n",
       "      <td>55.5</td>\n",
       "    </tr>\n",
       "  </tbody>\n",
       "</table>\n",
       "</div>"
      ],
      "text/plain": [
       "       cakes  pies  profit\n",
       "3411       5    25    57.5\n",
       "2928       6    24    57.0\n",
       "12         7    23    56.5\n",
       "11830      8    22    56.0\n",
       "1481       9    21    55.5"
      ]
     },
     "execution_count": 3,
     "metadata": {},
     "output_type": "execute_result"
    }
   ],
   "source": [
    "# find maximum profit\n",
    "mcs_results.head(5)"
   ]
  },
  {
   "cell_type": "code",
   "execution_count": 4,
   "metadata": {},
   "outputs": [
    {
     "data": {
      "application/vnd.plotly.v1+json": {
       "config": {
        "plotlyServerURL": "https://plot.ly"
       },
       "data": [
        {
         "alignmentgroup": "True",
         "bingroup": "x",
         "hovertemplate": "profit=%{x}<br>count=%{y}<extra></extra>",
         "legendgroup": "",
         "marker": {
          "color": "#636efa",
          "pattern": {
           "shape": ""
          }
         },
         "name": "",
         "offsetgroup": "",
         "orientation": "v",
         "showlegend": false,
         "type": "histogram",
         "x": [
          57.5,
          57,
          56.5,
          56,
          55.5,
          55.5,
          55,
          55,
          54.5,
          54.5,
          54,
          54,
          53.5,
          53.5,
          53.5,
          53,
          53,
          53,
          52.5,
          52.5,
          52.5,
          52,
          52,
          52,
          51.5,
          51.5,
          51.5,
          51.5,
          51,
          51,
          51,
          51,
          50.5,
          50.5,
          50.5,
          50.5,
          50,
          50,
          50,
          50,
          49.5,
          49.5,
          49.5,
          49.5,
          49,
          49,
          49,
          49,
          48.5,
          48.5,
          48.5,
          48.5,
          48,
          48,
          48,
          47.5,
          47.5,
          47.5,
          47.5,
          47,
          47,
          47,
          47,
          46.5,
          46.5,
          46.5,
          46,
          46,
          46,
          45.5,
          45.5,
          45.5,
          45.5,
          45,
          45,
          45,
          44.5,
          44.5,
          44.5,
          44,
          44,
          44,
          43.5,
          43.5,
          43.5,
          43,
          43,
          43,
          42.5,
          42.5,
          42.5,
          42,
          42,
          41.5,
          41.5,
          41.5,
          41,
          41,
          41,
          40.5,
          40.5,
          40,
          40,
          39.5,
          39.5,
          39.5,
          39,
          39,
          38.5,
          38.5,
          38,
          38,
          37.5,
          37.5,
          37,
          37,
          36.5,
          36.5,
          36,
          35.5,
          35.5,
          35,
          35,
          34.5,
          34,
          33.5,
          33.5,
          33,
          32.5,
          32,
          31.5,
          31,
          30.5,
          29.5,
          29,
          27.5
         ],
         "xaxis": "x",
         "yaxis": "y"
        }
       ],
       "layout": {
        "barmode": "relative",
        "height": 500,
        "legend": {
         "tracegroupgap": 0
        },
        "margin": {
         "t": 60
        },
        "template": {
         "data": {
          "bar": [
           {
            "error_x": {
             "color": "#2a3f5f"
            },
            "error_y": {
             "color": "#2a3f5f"
            },
            "marker": {
             "line": {
              "color": "#E5ECF6",
              "width": 0.5
             },
             "pattern": {
              "fillmode": "overlay",
              "size": 10,
              "solidity": 0.2
             }
            },
            "type": "bar"
           }
          ],
          "barpolar": [
           {
            "marker": {
             "line": {
              "color": "#E5ECF6",
              "width": 0.5
             },
             "pattern": {
              "fillmode": "overlay",
              "size": 10,
              "solidity": 0.2
             }
            },
            "type": "barpolar"
           }
          ],
          "carpet": [
           {
            "aaxis": {
             "endlinecolor": "#2a3f5f",
             "gridcolor": "white",
             "linecolor": "white",
             "minorgridcolor": "white",
             "startlinecolor": "#2a3f5f"
            },
            "baxis": {
             "endlinecolor": "#2a3f5f",
             "gridcolor": "white",
             "linecolor": "white",
             "minorgridcolor": "white",
             "startlinecolor": "#2a3f5f"
            },
            "type": "carpet"
           }
          ],
          "choropleth": [
           {
            "colorbar": {
             "outlinewidth": 0,
             "ticks": ""
            },
            "type": "choropleth"
           }
          ],
          "contour": [
           {
            "colorbar": {
             "outlinewidth": 0,
             "ticks": ""
            },
            "colorscale": [
             [
              0,
              "#0d0887"
             ],
             [
              0.1111111111111111,
              "#46039f"
             ],
             [
              0.2222222222222222,
              "#7201a8"
             ],
             [
              0.3333333333333333,
              "#9c179e"
             ],
             [
              0.4444444444444444,
              "#bd3786"
             ],
             [
              0.5555555555555556,
              "#d8576b"
             ],
             [
              0.6666666666666666,
              "#ed7953"
             ],
             [
              0.7777777777777778,
              "#fb9f3a"
             ],
             [
              0.8888888888888888,
              "#fdca26"
             ],
             [
              1,
              "#f0f921"
             ]
            ],
            "type": "contour"
           }
          ],
          "contourcarpet": [
           {
            "colorbar": {
             "outlinewidth": 0,
             "ticks": ""
            },
            "type": "contourcarpet"
           }
          ],
          "heatmap": [
           {
            "colorbar": {
             "outlinewidth": 0,
             "ticks": ""
            },
            "colorscale": [
             [
              0,
              "#0d0887"
             ],
             [
              0.1111111111111111,
              "#46039f"
             ],
             [
              0.2222222222222222,
              "#7201a8"
             ],
             [
              0.3333333333333333,
              "#9c179e"
             ],
             [
              0.4444444444444444,
              "#bd3786"
             ],
             [
              0.5555555555555556,
              "#d8576b"
             ],
             [
              0.6666666666666666,
              "#ed7953"
             ],
             [
              0.7777777777777778,
              "#fb9f3a"
             ],
             [
              0.8888888888888888,
              "#fdca26"
             ],
             [
              1,
              "#f0f921"
             ]
            ],
            "type": "heatmap"
           }
          ],
          "heatmapgl": [
           {
            "colorbar": {
             "outlinewidth": 0,
             "ticks": ""
            },
            "colorscale": [
             [
              0,
              "#0d0887"
             ],
             [
              0.1111111111111111,
              "#46039f"
             ],
             [
              0.2222222222222222,
              "#7201a8"
             ],
             [
              0.3333333333333333,
              "#9c179e"
             ],
             [
              0.4444444444444444,
              "#bd3786"
             ],
             [
              0.5555555555555556,
              "#d8576b"
             ],
             [
              0.6666666666666666,
              "#ed7953"
             ],
             [
              0.7777777777777778,
              "#fb9f3a"
             ],
             [
              0.8888888888888888,
              "#fdca26"
             ],
             [
              1,
              "#f0f921"
             ]
            ],
            "type": "heatmapgl"
           }
          ],
          "histogram": [
           {
            "marker": {
             "pattern": {
              "fillmode": "overlay",
              "size": 10,
              "solidity": 0.2
             }
            },
            "type": "histogram"
           }
          ],
          "histogram2d": [
           {
            "colorbar": {
             "outlinewidth": 0,
             "ticks": ""
            },
            "colorscale": [
             [
              0,
              "#0d0887"
             ],
             [
              0.1111111111111111,
              "#46039f"
             ],
             [
              0.2222222222222222,
              "#7201a8"
             ],
             [
              0.3333333333333333,
              "#9c179e"
             ],
             [
              0.4444444444444444,
              "#bd3786"
             ],
             [
              0.5555555555555556,
              "#d8576b"
             ],
             [
              0.6666666666666666,
              "#ed7953"
             ],
             [
              0.7777777777777778,
              "#fb9f3a"
             ],
             [
              0.8888888888888888,
              "#fdca26"
             ],
             [
              1,
              "#f0f921"
             ]
            ],
            "type": "histogram2d"
           }
          ],
          "histogram2dcontour": [
           {
            "colorbar": {
             "outlinewidth": 0,
             "ticks": ""
            },
            "colorscale": [
             [
              0,
              "#0d0887"
             ],
             [
              0.1111111111111111,
              "#46039f"
             ],
             [
              0.2222222222222222,
              "#7201a8"
             ],
             [
              0.3333333333333333,
              "#9c179e"
             ],
             [
              0.4444444444444444,
              "#bd3786"
             ],
             [
              0.5555555555555556,
              "#d8576b"
             ],
             [
              0.6666666666666666,
              "#ed7953"
             ],
             [
              0.7777777777777778,
              "#fb9f3a"
             ],
             [
              0.8888888888888888,
              "#fdca26"
             ],
             [
              1,
              "#f0f921"
             ]
            ],
            "type": "histogram2dcontour"
           }
          ],
          "mesh3d": [
           {
            "colorbar": {
             "outlinewidth": 0,
             "ticks": ""
            },
            "type": "mesh3d"
           }
          ],
          "parcoords": [
           {
            "line": {
             "colorbar": {
              "outlinewidth": 0,
              "ticks": ""
             }
            },
            "type": "parcoords"
           }
          ],
          "pie": [
           {
            "automargin": true,
            "type": "pie"
           }
          ],
          "scatter": [
           {
            "fillpattern": {
             "fillmode": "overlay",
             "size": 10,
             "solidity": 0.2
            },
            "type": "scatter"
           }
          ],
          "scatter3d": [
           {
            "line": {
             "colorbar": {
              "outlinewidth": 0,
              "ticks": ""
             }
            },
            "marker": {
             "colorbar": {
              "outlinewidth": 0,
              "ticks": ""
             }
            },
            "type": "scatter3d"
           }
          ],
          "scattercarpet": [
           {
            "marker": {
             "colorbar": {
              "outlinewidth": 0,
              "ticks": ""
             }
            },
            "type": "scattercarpet"
           }
          ],
          "scattergeo": [
           {
            "marker": {
             "colorbar": {
              "outlinewidth": 0,
              "ticks": ""
             }
            },
            "type": "scattergeo"
           }
          ],
          "scattergl": [
           {
            "marker": {
             "colorbar": {
              "outlinewidth": 0,
              "ticks": ""
             }
            },
            "type": "scattergl"
           }
          ],
          "scattermapbox": [
           {
            "marker": {
             "colorbar": {
              "outlinewidth": 0,
              "ticks": ""
             }
            },
            "type": "scattermapbox"
           }
          ],
          "scatterpolar": [
           {
            "marker": {
             "colorbar": {
              "outlinewidth": 0,
              "ticks": ""
             }
            },
            "type": "scatterpolar"
           }
          ],
          "scatterpolargl": [
           {
            "marker": {
             "colorbar": {
              "outlinewidth": 0,
              "ticks": ""
             }
            },
            "type": "scatterpolargl"
           }
          ],
          "scatterternary": [
           {
            "marker": {
             "colorbar": {
              "outlinewidth": 0,
              "ticks": ""
             }
            },
            "type": "scatterternary"
           }
          ],
          "surface": [
           {
            "colorbar": {
             "outlinewidth": 0,
             "ticks": ""
            },
            "colorscale": [
             [
              0,
              "#0d0887"
             ],
             [
              0.1111111111111111,
              "#46039f"
             ],
             [
              0.2222222222222222,
              "#7201a8"
             ],
             [
              0.3333333333333333,
              "#9c179e"
             ],
             [
              0.4444444444444444,
              "#bd3786"
             ],
             [
              0.5555555555555556,
              "#d8576b"
             ],
             [
              0.6666666666666666,
              "#ed7953"
             ],
             [
              0.7777777777777778,
              "#fb9f3a"
             ],
             [
              0.8888888888888888,
              "#fdca26"
             ],
             [
              1,
              "#f0f921"
             ]
            ],
            "type": "surface"
           }
          ],
          "table": [
           {
            "cells": {
             "fill": {
              "color": "#EBF0F8"
             },
             "line": {
              "color": "white"
             }
            },
            "header": {
             "fill": {
              "color": "#C8D4E3"
             },
             "line": {
              "color": "white"
             }
            },
            "type": "table"
           }
          ]
         },
         "layout": {
          "annotationdefaults": {
           "arrowcolor": "#2a3f5f",
           "arrowhead": 0,
           "arrowwidth": 1
          },
          "autotypenumbers": "strict",
          "coloraxis": {
           "colorbar": {
            "outlinewidth": 0,
            "ticks": ""
           }
          },
          "colorscale": {
           "diverging": [
            [
             0,
             "#8e0152"
            ],
            [
             0.1,
             "#c51b7d"
            ],
            [
             0.2,
             "#de77ae"
            ],
            [
             0.3,
             "#f1b6da"
            ],
            [
             0.4,
             "#fde0ef"
            ],
            [
             0.5,
             "#f7f7f7"
            ],
            [
             0.6,
             "#e6f5d0"
            ],
            [
             0.7,
             "#b8e186"
            ],
            [
             0.8,
             "#7fbc41"
            ],
            [
             0.9,
             "#4d9221"
            ],
            [
             1,
             "#276419"
            ]
           ],
           "sequential": [
            [
             0,
             "#0d0887"
            ],
            [
             0.1111111111111111,
             "#46039f"
            ],
            [
             0.2222222222222222,
             "#7201a8"
            ],
            [
             0.3333333333333333,
             "#9c179e"
            ],
            [
             0.4444444444444444,
             "#bd3786"
            ],
            [
             0.5555555555555556,
             "#d8576b"
            ],
            [
             0.6666666666666666,
             "#ed7953"
            ],
            [
             0.7777777777777778,
             "#fb9f3a"
            ],
            [
             0.8888888888888888,
             "#fdca26"
            ],
            [
             1,
             "#f0f921"
            ]
           ],
           "sequentialminus": [
            [
             0,
             "#0d0887"
            ],
            [
             0.1111111111111111,
             "#46039f"
            ],
            [
             0.2222222222222222,
             "#7201a8"
            ],
            [
             0.3333333333333333,
             "#9c179e"
            ],
            [
             0.4444444444444444,
             "#bd3786"
            ],
            [
             0.5555555555555556,
             "#d8576b"
            ],
            [
             0.6666666666666666,
             "#ed7953"
            ],
            [
             0.7777777777777778,
             "#fb9f3a"
            ],
            [
             0.8888888888888888,
             "#fdca26"
            ],
            [
             1,
             "#f0f921"
            ]
           ]
          },
          "colorway": [
           "#636efa",
           "#EF553B",
           "#00cc96",
           "#ab63fa",
           "#FFA15A",
           "#19d3f3",
           "#FF6692",
           "#B6E880",
           "#FF97FF",
           "#FECB52"
          ],
          "font": {
           "color": "#2a3f5f"
          },
          "geo": {
           "bgcolor": "white",
           "lakecolor": "white",
           "landcolor": "#E5ECF6",
           "showlakes": true,
           "showland": true,
           "subunitcolor": "white"
          },
          "hoverlabel": {
           "align": "left"
          },
          "hovermode": "closest",
          "mapbox": {
           "style": "light"
          },
          "paper_bgcolor": "white",
          "plot_bgcolor": "#E5ECF6",
          "polar": {
           "angularaxis": {
            "gridcolor": "white",
            "linecolor": "white",
            "ticks": ""
           },
           "bgcolor": "#E5ECF6",
           "radialaxis": {
            "gridcolor": "white",
            "linecolor": "white",
            "ticks": ""
           }
          },
          "scene": {
           "xaxis": {
            "backgroundcolor": "#E5ECF6",
            "gridcolor": "white",
            "gridwidth": 2,
            "linecolor": "white",
            "showbackground": true,
            "ticks": "",
            "zerolinecolor": "white"
           },
           "yaxis": {
            "backgroundcolor": "#E5ECF6",
            "gridcolor": "white",
            "gridwidth": 2,
            "linecolor": "white",
            "showbackground": true,
            "ticks": "",
            "zerolinecolor": "white"
           },
           "zaxis": {
            "backgroundcolor": "#E5ECF6",
            "gridcolor": "white",
            "gridwidth": 2,
            "linecolor": "white",
            "showbackground": true,
            "ticks": "",
            "zerolinecolor": "white"
           }
          },
          "shapedefaults": {
           "line": {
            "color": "#2a3f5f"
           }
          },
          "ternary": {
           "aaxis": {
            "gridcolor": "white",
            "linecolor": "white",
            "ticks": ""
           },
           "baxis": {
            "gridcolor": "white",
            "linecolor": "white",
            "ticks": ""
           },
           "bgcolor": "#E5ECF6",
           "caxis": {
            "gridcolor": "white",
            "linecolor": "white",
            "ticks": ""
           }
          },
          "title": {
           "x": 0.05
          },
          "xaxis": {
           "automargin": true,
           "gridcolor": "white",
           "linecolor": "white",
           "ticks": "",
           "title": {
            "standoff": 15
           },
           "zerolinecolor": "white",
           "zerolinewidth": 2
          },
          "yaxis": {
           "automargin": true,
           "gridcolor": "white",
           "linecolor": "white",
           "ticks": "",
           "title": {
            "standoff": 15
           },
           "zerolinecolor": "white",
           "zerolinewidth": 2
          }
         }
        },
        "width": 500,
        "xaxis": {
         "anchor": "y",
         "domain": [
          0,
          1
         ],
         "title": {
          "text": "profit"
         }
        },
        "yaxis": {
         "anchor": "x",
         "domain": [
          0,
          1
         ],
         "title": {
          "text": "count"
         }
        }
       }
      }
     },
     "metadata": {},
     "output_type": "display_data"
    }
   ],
   "source": [
    "fig = px.histogram(mcs_results, x='profit')\n",
    "fig.update_layout(width=500,height=500)\n",
    "fig.show()"
   ]
  },
  {
   "cell_type": "code",
   "execution_count": 5,
   "metadata": {},
   "outputs": [
    {
     "data": {
      "text/html": [
       "<div>\n",
       "<style scoped>\n",
       "    .dataframe tbody tr th:only-of-type {\n",
       "        vertical-align: middle;\n",
       "    }\n",
       "\n",
       "    .dataframe tbody tr th {\n",
       "        vertical-align: top;\n",
       "    }\n",
       "\n",
       "    .dataframe thead th {\n",
       "        text-align: right;\n",
       "    }\n",
       "</style>\n",
       "<table border=\"1\" class=\"dataframe\">\n",
       "  <thead>\n",
       "    <tr style=\"text-align: right;\">\n",
       "      <th>pies</th>\n",
       "      <th>10</th>\n",
       "      <th>11</th>\n",
       "      <th>12</th>\n",
       "      <th>13</th>\n",
       "      <th>14</th>\n",
       "      <th>15</th>\n",
       "      <th>16</th>\n",
       "      <th>17</th>\n",
       "      <th>18</th>\n",
       "      <th>19</th>\n",
       "      <th>20</th>\n",
       "      <th>21</th>\n",
       "      <th>22</th>\n",
       "      <th>23</th>\n",
       "      <th>24</th>\n",
       "      <th>25</th>\n",
       "    </tr>\n",
       "    <tr>\n",
       "      <th>cakes</th>\n",
       "      <th></th>\n",
       "      <th></th>\n",
       "      <th></th>\n",
       "      <th></th>\n",
       "      <th></th>\n",
       "      <th></th>\n",
       "      <th></th>\n",
       "      <th></th>\n",
       "      <th></th>\n",
       "      <th></th>\n",
       "      <th></th>\n",
       "      <th></th>\n",
       "      <th></th>\n",
       "      <th></th>\n",
       "      <th></th>\n",
       "      <th></th>\n",
       "    </tr>\n",
       "  </thead>\n",
       "  <tbody>\n",
       "    <tr>\n",
       "      <th>5</th>\n",
       "      <td>27.5</td>\n",
       "      <td>29.5</td>\n",
       "      <td>31.5</td>\n",
       "      <td>33.5</td>\n",
       "      <td>35.5</td>\n",
       "      <td>37.5</td>\n",
       "      <td>39.5</td>\n",
       "      <td>41.5</td>\n",
       "      <td>43.5</td>\n",
       "      <td>45.5</td>\n",
       "      <td>47.5</td>\n",
       "      <td>49.5</td>\n",
       "      <td>51.5</td>\n",
       "      <td>53.5</td>\n",
       "      <td>55.5</td>\n",
       "      <td>57.5</td>\n",
       "    </tr>\n",
       "    <tr>\n",
       "      <th>6</th>\n",
       "      <td>29.0</td>\n",
       "      <td>31.0</td>\n",
       "      <td>33.0</td>\n",
       "      <td>35.0</td>\n",
       "      <td>37.0</td>\n",
       "      <td>39.0</td>\n",
       "      <td>41.0</td>\n",
       "      <td>43.0</td>\n",
       "      <td>45.0</td>\n",
       "      <td>47.0</td>\n",
       "      <td>49.0</td>\n",
       "      <td>51.0</td>\n",
       "      <td>53.0</td>\n",
       "      <td>55.0</td>\n",
       "      <td>57.0</td>\n",
       "      <td>0.0</td>\n",
       "    </tr>\n",
       "    <tr>\n",
       "      <th>7</th>\n",
       "      <td>30.5</td>\n",
       "      <td>32.5</td>\n",
       "      <td>34.5</td>\n",
       "      <td>36.5</td>\n",
       "      <td>38.5</td>\n",
       "      <td>40.5</td>\n",
       "      <td>42.5</td>\n",
       "      <td>44.5</td>\n",
       "      <td>46.5</td>\n",
       "      <td>48.5</td>\n",
       "      <td>50.5</td>\n",
       "      <td>52.5</td>\n",
       "      <td>54.5</td>\n",
       "      <td>56.5</td>\n",
       "      <td>0.0</td>\n",
       "      <td>0.0</td>\n",
       "    </tr>\n",
       "    <tr>\n",
       "      <th>8</th>\n",
       "      <td>32.0</td>\n",
       "      <td>34.0</td>\n",
       "      <td>36.0</td>\n",
       "      <td>38.0</td>\n",
       "      <td>40.0</td>\n",
       "      <td>42.0</td>\n",
       "      <td>44.0</td>\n",
       "      <td>46.0</td>\n",
       "      <td>48.0</td>\n",
       "      <td>50.0</td>\n",
       "      <td>52.0</td>\n",
       "      <td>54.0</td>\n",
       "      <td>56.0</td>\n",
       "      <td>0.0</td>\n",
       "      <td>0.0</td>\n",
       "      <td>0.0</td>\n",
       "    </tr>\n",
       "    <tr>\n",
       "      <th>9</th>\n",
       "      <td>33.5</td>\n",
       "      <td>35.5</td>\n",
       "      <td>37.5</td>\n",
       "      <td>39.5</td>\n",
       "      <td>41.5</td>\n",
       "      <td>43.5</td>\n",
       "      <td>45.5</td>\n",
       "      <td>47.5</td>\n",
       "      <td>49.5</td>\n",
       "      <td>51.5</td>\n",
       "      <td>53.5</td>\n",
       "      <td>55.5</td>\n",
       "      <td>0.0</td>\n",
       "      <td>0.0</td>\n",
       "      <td>0.0</td>\n",
       "      <td>0.0</td>\n",
       "    </tr>\n",
       "    <tr>\n",
       "      <th>10</th>\n",
       "      <td>35.0</td>\n",
       "      <td>37.0</td>\n",
       "      <td>39.0</td>\n",
       "      <td>41.0</td>\n",
       "      <td>43.0</td>\n",
       "      <td>45.0</td>\n",
       "      <td>47.0</td>\n",
       "      <td>49.0</td>\n",
       "      <td>51.0</td>\n",
       "      <td>53.0</td>\n",
       "      <td>55.0</td>\n",
       "      <td>0.0</td>\n",
       "      <td>0.0</td>\n",
       "      <td>0.0</td>\n",
       "      <td>0.0</td>\n",
       "      <td>0.0</td>\n",
       "    </tr>\n",
       "    <tr>\n",
       "      <th>11</th>\n",
       "      <td>36.5</td>\n",
       "      <td>38.5</td>\n",
       "      <td>40.5</td>\n",
       "      <td>42.5</td>\n",
       "      <td>44.5</td>\n",
       "      <td>46.5</td>\n",
       "      <td>48.5</td>\n",
       "      <td>50.5</td>\n",
       "      <td>52.5</td>\n",
       "      <td>54.5</td>\n",
       "      <td>0.0</td>\n",
       "      <td>0.0</td>\n",
       "      <td>0.0</td>\n",
       "      <td>0.0</td>\n",
       "      <td>0.0</td>\n",
       "      <td>0.0</td>\n",
       "    </tr>\n",
       "    <tr>\n",
       "      <th>12</th>\n",
       "      <td>38.0</td>\n",
       "      <td>40.0</td>\n",
       "      <td>42.0</td>\n",
       "      <td>44.0</td>\n",
       "      <td>46.0</td>\n",
       "      <td>48.0</td>\n",
       "      <td>50.0</td>\n",
       "      <td>52.0</td>\n",
       "      <td>54.0</td>\n",
       "      <td>0.0</td>\n",
       "      <td>0.0</td>\n",
       "      <td>0.0</td>\n",
       "      <td>0.0</td>\n",
       "      <td>0.0</td>\n",
       "      <td>0.0</td>\n",
       "      <td>0.0</td>\n",
       "    </tr>\n",
       "    <tr>\n",
       "      <th>13</th>\n",
       "      <td>39.5</td>\n",
       "      <td>41.5</td>\n",
       "      <td>43.5</td>\n",
       "      <td>45.5</td>\n",
       "      <td>47.5</td>\n",
       "      <td>49.5</td>\n",
       "      <td>51.5</td>\n",
       "      <td>53.5</td>\n",
       "      <td>0.0</td>\n",
       "      <td>0.0</td>\n",
       "      <td>0.0</td>\n",
       "      <td>0.0</td>\n",
       "      <td>0.0</td>\n",
       "      <td>0.0</td>\n",
       "      <td>0.0</td>\n",
       "      <td>0.0</td>\n",
       "    </tr>\n",
       "    <tr>\n",
       "      <th>14</th>\n",
       "      <td>41.0</td>\n",
       "      <td>43.0</td>\n",
       "      <td>45.0</td>\n",
       "      <td>47.0</td>\n",
       "      <td>49.0</td>\n",
       "      <td>51.0</td>\n",
       "      <td>53.0</td>\n",
       "      <td>0.0</td>\n",
       "      <td>0.0</td>\n",
       "      <td>0.0</td>\n",
       "      <td>0.0</td>\n",
       "      <td>0.0</td>\n",
       "      <td>0.0</td>\n",
       "      <td>0.0</td>\n",
       "      <td>0.0</td>\n",
       "      <td>0.0</td>\n",
       "    </tr>\n",
       "    <tr>\n",
       "      <th>15</th>\n",
       "      <td>42.5</td>\n",
       "      <td>44.5</td>\n",
       "      <td>46.5</td>\n",
       "      <td>48.5</td>\n",
       "      <td>50.5</td>\n",
       "      <td>52.5</td>\n",
       "      <td>0.0</td>\n",
       "      <td>0.0</td>\n",
       "      <td>0.0</td>\n",
       "      <td>0.0</td>\n",
       "      <td>0.0</td>\n",
       "      <td>0.0</td>\n",
       "      <td>0.0</td>\n",
       "      <td>0.0</td>\n",
       "      <td>0.0</td>\n",
       "      <td>0.0</td>\n",
       "    </tr>\n",
       "    <tr>\n",
       "      <th>16</th>\n",
       "      <td>44.0</td>\n",
       "      <td>46.0</td>\n",
       "      <td>48.0</td>\n",
       "      <td>50.0</td>\n",
       "      <td>52.0</td>\n",
       "      <td>0.0</td>\n",
       "      <td>0.0</td>\n",
       "      <td>0.0</td>\n",
       "      <td>0.0</td>\n",
       "      <td>0.0</td>\n",
       "      <td>0.0</td>\n",
       "      <td>0.0</td>\n",
       "      <td>0.0</td>\n",
       "      <td>0.0</td>\n",
       "      <td>0.0</td>\n",
       "      <td>0.0</td>\n",
       "    </tr>\n",
       "    <tr>\n",
       "      <th>17</th>\n",
       "      <td>45.5</td>\n",
       "      <td>47.5</td>\n",
       "      <td>49.5</td>\n",
       "      <td>51.5</td>\n",
       "      <td>0.0</td>\n",
       "      <td>0.0</td>\n",
       "      <td>0.0</td>\n",
       "      <td>0.0</td>\n",
       "      <td>0.0</td>\n",
       "      <td>0.0</td>\n",
       "      <td>0.0</td>\n",
       "      <td>0.0</td>\n",
       "      <td>0.0</td>\n",
       "      <td>0.0</td>\n",
       "      <td>0.0</td>\n",
       "      <td>0.0</td>\n",
       "    </tr>\n",
       "    <tr>\n",
       "      <th>18</th>\n",
       "      <td>47.0</td>\n",
       "      <td>49.0</td>\n",
       "      <td>51.0</td>\n",
       "      <td>0.0</td>\n",
       "      <td>0.0</td>\n",
       "      <td>0.0</td>\n",
       "      <td>0.0</td>\n",
       "      <td>0.0</td>\n",
       "      <td>0.0</td>\n",
       "      <td>0.0</td>\n",
       "      <td>0.0</td>\n",
       "      <td>0.0</td>\n",
       "      <td>0.0</td>\n",
       "      <td>0.0</td>\n",
       "      <td>0.0</td>\n",
       "      <td>0.0</td>\n",
       "    </tr>\n",
       "    <tr>\n",
       "      <th>19</th>\n",
       "      <td>48.5</td>\n",
       "      <td>50.5</td>\n",
       "      <td>0.0</td>\n",
       "      <td>0.0</td>\n",
       "      <td>0.0</td>\n",
       "      <td>0.0</td>\n",
       "      <td>0.0</td>\n",
       "      <td>0.0</td>\n",
       "      <td>0.0</td>\n",
       "      <td>0.0</td>\n",
       "      <td>0.0</td>\n",
       "      <td>0.0</td>\n",
       "      <td>0.0</td>\n",
       "      <td>0.0</td>\n",
       "      <td>0.0</td>\n",
       "      <td>0.0</td>\n",
       "    </tr>\n",
       "    <tr>\n",
       "      <th>20</th>\n",
       "      <td>50.0</td>\n",
       "      <td>0.0</td>\n",
       "      <td>0.0</td>\n",
       "      <td>0.0</td>\n",
       "      <td>0.0</td>\n",
       "      <td>0.0</td>\n",
       "      <td>0.0</td>\n",
       "      <td>0.0</td>\n",
       "      <td>0.0</td>\n",
       "      <td>0.0</td>\n",
       "      <td>0.0</td>\n",
       "      <td>0.0</td>\n",
       "      <td>0.0</td>\n",
       "      <td>0.0</td>\n",
       "      <td>0.0</td>\n",
       "      <td>0.0</td>\n",
       "    </tr>\n",
       "  </tbody>\n",
       "</table>\n",
       "</div>"
      ],
      "text/plain": [
       "pies     10    11    12    13    14    15    16    17    18    19    20    21  \\\n",
       "cakes                                                                           \n",
       "5      27.5  29.5  31.5  33.5  35.5  37.5  39.5  41.5  43.5  45.5  47.5  49.5   \n",
       "6      29.0  31.0  33.0  35.0  37.0  39.0  41.0  43.0  45.0  47.0  49.0  51.0   \n",
       "7      30.5  32.5  34.5  36.5  38.5  40.5  42.5  44.5  46.5  48.5  50.5  52.5   \n",
       "8      32.0  34.0  36.0  38.0  40.0  42.0  44.0  46.0  48.0  50.0  52.0  54.0   \n",
       "9      33.5  35.5  37.5  39.5  41.5  43.5  45.5  47.5  49.5  51.5  53.5  55.5   \n",
       "10     35.0  37.0  39.0  41.0  43.0  45.0  47.0  49.0  51.0  53.0  55.0   0.0   \n",
       "11     36.5  38.5  40.5  42.5  44.5  46.5  48.5  50.5  52.5  54.5   0.0   0.0   \n",
       "12     38.0  40.0  42.0  44.0  46.0  48.0  50.0  52.0  54.0   0.0   0.0   0.0   \n",
       "13     39.5  41.5  43.5  45.5  47.5  49.5  51.5  53.5   0.0   0.0   0.0   0.0   \n",
       "14     41.0  43.0  45.0  47.0  49.0  51.0  53.0   0.0   0.0   0.0   0.0   0.0   \n",
       "15     42.5  44.5  46.5  48.5  50.5  52.5   0.0   0.0   0.0   0.0   0.0   0.0   \n",
       "16     44.0  46.0  48.0  50.0  52.0   0.0   0.0   0.0   0.0   0.0   0.0   0.0   \n",
       "17     45.5  47.5  49.5  51.5   0.0   0.0   0.0   0.0   0.0   0.0   0.0   0.0   \n",
       "18     47.0  49.0  51.0   0.0   0.0   0.0   0.0   0.0   0.0   0.0   0.0   0.0   \n",
       "19     48.5  50.5   0.0   0.0   0.0   0.0   0.0   0.0   0.0   0.0   0.0   0.0   \n",
       "20     50.0   0.0   0.0   0.0   0.0   0.0   0.0   0.0   0.0   0.0   0.0   0.0   \n",
       "\n",
       "pies     22    23    24    25  \n",
       "cakes                          \n",
       "5      51.5  53.5  55.5  57.5  \n",
       "6      53.0  55.0  57.0   0.0  \n",
       "7      54.5  56.5   0.0   0.0  \n",
       "8      56.0   0.0   0.0   0.0  \n",
       "9       0.0   0.0   0.0   0.0  \n",
       "10      0.0   0.0   0.0   0.0  \n",
       "11      0.0   0.0   0.0   0.0  \n",
       "12      0.0   0.0   0.0   0.0  \n",
       "13      0.0   0.0   0.0   0.0  \n",
       "14      0.0   0.0   0.0   0.0  \n",
       "15      0.0   0.0   0.0   0.0  \n",
       "16      0.0   0.0   0.0   0.0  \n",
       "17      0.0   0.0   0.0   0.0  \n",
       "18      0.0   0.0   0.0   0.0  \n",
       "19      0.0   0.0   0.0   0.0  \n",
       "20      0.0   0.0   0.0   0.0  "
      ]
     },
     "execution_count": 5,
     "metadata": {},
     "output_type": "execute_result"
    }
   ],
   "source": [
    "mcs_results_mat = mcs_results.pivot(index='cakes', columns='pies')['profit'].fillna(0)\n",
    "mcs_results_mat"
   ]
  },
  {
   "cell_type": "code",
   "execution_count": 6,
   "metadata": {},
   "outputs": [
    {
     "data": {
      "application/vnd.plotly.v1+json": {
       "config": {
        "plotlyServerURL": "https://plot.ly"
       },
       "data": [
        {
         "coloraxis": "coloraxis",
         "hovertemplate": "pies: %{x}<br>cakes: %{y}<br>color: %{z}<extra></extra>",
         "name": "0",
         "type": "heatmap",
         "x": [
          10,
          11,
          12,
          13,
          14,
          15,
          16,
          17,
          18,
          19,
          20,
          21,
          22,
          23,
          24,
          25
         ],
         "xaxis": "x",
         "y": [
          5,
          6,
          7,
          8,
          9,
          10,
          11,
          12,
          13,
          14,
          15,
          16,
          17,
          18,
          19,
          20
         ],
         "yaxis": "y",
         "z": [
          [
           27.5,
           29.5,
           31.5,
           33.5,
           35.5,
           37.5,
           39.5,
           41.5,
           43.5,
           45.5,
           47.5,
           49.5,
           51.5,
           53.5,
           55.5,
           57.5
          ],
          [
           29,
           31,
           33,
           35,
           37,
           39,
           41,
           43,
           45,
           47,
           49,
           51,
           53,
           55,
           57,
           0
          ],
          [
           30.5,
           32.5,
           34.5,
           36.5,
           38.5,
           40.5,
           42.5,
           44.5,
           46.5,
           48.5,
           50.5,
           52.5,
           54.5,
           56.5,
           0,
           0
          ],
          [
           32,
           34,
           36,
           38,
           40,
           42,
           44,
           46,
           48,
           50,
           52,
           54,
           56,
           0,
           0,
           0
          ],
          [
           33.5,
           35.5,
           37.5,
           39.5,
           41.5,
           43.5,
           45.5,
           47.5,
           49.5,
           51.5,
           53.5,
           55.5,
           0,
           0,
           0,
           0
          ],
          [
           35,
           37,
           39,
           41,
           43,
           45,
           47,
           49,
           51,
           53,
           55,
           0,
           0,
           0,
           0,
           0
          ],
          [
           36.5,
           38.5,
           40.5,
           42.5,
           44.5,
           46.5,
           48.5,
           50.5,
           52.5,
           54.5,
           0,
           0,
           0,
           0,
           0,
           0
          ],
          [
           38,
           40,
           42,
           44,
           46,
           48,
           50,
           52,
           54,
           0,
           0,
           0,
           0,
           0,
           0,
           0
          ],
          [
           39.5,
           41.5,
           43.5,
           45.5,
           47.5,
           49.5,
           51.5,
           53.5,
           0,
           0,
           0,
           0,
           0,
           0,
           0,
           0
          ],
          [
           41,
           43,
           45,
           47,
           49,
           51,
           53,
           0,
           0,
           0,
           0,
           0,
           0,
           0,
           0,
           0
          ],
          [
           42.5,
           44.5,
           46.5,
           48.5,
           50.5,
           52.5,
           0,
           0,
           0,
           0,
           0,
           0,
           0,
           0,
           0,
           0
          ],
          [
           44,
           46,
           48,
           50,
           52,
           0,
           0,
           0,
           0,
           0,
           0,
           0,
           0,
           0,
           0,
           0
          ],
          [
           45.5,
           47.5,
           49.5,
           51.5,
           0,
           0,
           0,
           0,
           0,
           0,
           0,
           0,
           0,
           0,
           0,
           0
          ],
          [
           47,
           49,
           51,
           0,
           0,
           0,
           0,
           0,
           0,
           0,
           0,
           0,
           0,
           0,
           0,
           0
          ],
          [
           48.5,
           50.5,
           0,
           0,
           0,
           0,
           0,
           0,
           0,
           0,
           0,
           0,
           0,
           0,
           0,
           0
          ],
          [
           50,
           0,
           0,
           0,
           0,
           0,
           0,
           0,
           0,
           0,
           0,
           0,
           0,
           0,
           0,
           0
          ]
         ]
        }
       ],
       "layout": {
        "coloraxis": {
         "colorscale": [
          [
           0,
           "#0d0887"
          ],
          [
           0.1111111111111111,
           "#46039f"
          ],
          [
           0.2222222222222222,
           "#7201a8"
          ],
          [
           0.3333333333333333,
           "#9c179e"
          ],
          [
           0.4444444444444444,
           "#bd3786"
          ],
          [
           0.5555555555555556,
           "#d8576b"
          ],
          [
           0.6666666666666666,
           "#ed7953"
          ],
          [
           0.7777777777777778,
           "#fb9f3a"
          ],
          [
           0.8888888888888888,
           "#fdca26"
          ],
          [
           1,
           "#f0f921"
          ]
         ]
        },
        "height": 500,
        "margin": {
         "t": 60
        },
        "template": {
         "data": {
          "bar": [
           {
            "error_x": {
             "color": "#2a3f5f"
            },
            "error_y": {
             "color": "#2a3f5f"
            },
            "marker": {
             "line": {
              "color": "#E5ECF6",
              "width": 0.5
             },
             "pattern": {
              "fillmode": "overlay",
              "size": 10,
              "solidity": 0.2
             }
            },
            "type": "bar"
           }
          ],
          "barpolar": [
           {
            "marker": {
             "line": {
              "color": "#E5ECF6",
              "width": 0.5
             },
             "pattern": {
              "fillmode": "overlay",
              "size": 10,
              "solidity": 0.2
             }
            },
            "type": "barpolar"
           }
          ],
          "carpet": [
           {
            "aaxis": {
             "endlinecolor": "#2a3f5f",
             "gridcolor": "white",
             "linecolor": "white",
             "minorgridcolor": "white",
             "startlinecolor": "#2a3f5f"
            },
            "baxis": {
             "endlinecolor": "#2a3f5f",
             "gridcolor": "white",
             "linecolor": "white",
             "minorgridcolor": "white",
             "startlinecolor": "#2a3f5f"
            },
            "type": "carpet"
           }
          ],
          "choropleth": [
           {
            "colorbar": {
             "outlinewidth": 0,
             "ticks": ""
            },
            "type": "choropleth"
           }
          ],
          "contour": [
           {
            "colorbar": {
             "outlinewidth": 0,
             "ticks": ""
            },
            "colorscale": [
             [
              0,
              "#0d0887"
             ],
             [
              0.1111111111111111,
              "#46039f"
             ],
             [
              0.2222222222222222,
              "#7201a8"
             ],
             [
              0.3333333333333333,
              "#9c179e"
             ],
             [
              0.4444444444444444,
              "#bd3786"
             ],
             [
              0.5555555555555556,
              "#d8576b"
             ],
             [
              0.6666666666666666,
              "#ed7953"
             ],
             [
              0.7777777777777778,
              "#fb9f3a"
             ],
             [
              0.8888888888888888,
              "#fdca26"
             ],
             [
              1,
              "#f0f921"
             ]
            ],
            "type": "contour"
           }
          ],
          "contourcarpet": [
           {
            "colorbar": {
             "outlinewidth": 0,
             "ticks": ""
            },
            "type": "contourcarpet"
           }
          ],
          "heatmap": [
           {
            "colorbar": {
             "outlinewidth": 0,
             "ticks": ""
            },
            "colorscale": [
             [
              0,
              "#0d0887"
             ],
             [
              0.1111111111111111,
              "#46039f"
             ],
             [
              0.2222222222222222,
              "#7201a8"
             ],
             [
              0.3333333333333333,
              "#9c179e"
             ],
             [
              0.4444444444444444,
              "#bd3786"
             ],
             [
              0.5555555555555556,
              "#d8576b"
             ],
             [
              0.6666666666666666,
              "#ed7953"
             ],
             [
              0.7777777777777778,
              "#fb9f3a"
             ],
             [
              0.8888888888888888,
              "#fdca26"
             ],
             [
              1,
              "#f0f921"
             ]
            ],
            "type": "heatmap"
           }
          ],
          "heatmapgl": [
           {
            "colorbar": {
             "outlinewidth": 0,
             "ticks": ""
            },
            "colorscale": [
             [
              0,
              "#0d0887"
             ],
             [
              0.1111111111111111,
              "#46039f"
             ],
             [
              0.2222222222222222,
              "#7201a8"
             ],
             [
              0.3333333333333333,
              "#9c179e"
             ],
             [
              0.4444444444444444,
              "#bd3786"
             ],
             [
              0.5555555555555556,
              "#d8576b"
             ],
             [
              0.6666666666666666,
              "#ed7953"
             ],
             [
              0.7777777777777778,
              "#fb9f3a"
             ],
             [
              0.8888888888888888,
              "#fdca26"
             ],
             [
              1,
              "#f0f921"
             ]
            ],
            "type": "heatmapgl"
           }
          ],
          "histogram": [
           {
            "marker": {
             "pattern": {
              "fillmode": "overlay",
              "size": 10,
              "solidity": 0.2
             }
            },
            "type": "histogram"
           }
          ],
          "histogram2d": [
           {
            "colorbar": {
             "outlinewidth": 0,
             "ticks": ""
            },
            "colorscale": [
             [
              0,
              "#0d0887"
             ],
             [
              0.1111111111111111,
              "#46039f"
             ],
             [
              0.2222222222222222,
              "#7201a8"
             ],
             [
              0.3333333333333333,
              "#9c179e"
             ],
             [
              0.4444444444444444,
              "#bd3786"
             ],
             [
              0.5555555555555556,
              "#d8576b"
             ],
             [
              0.6666666666666666,
              "#ed7953"
             ],
             [
              0.7777777777777778,
              "#fb9f3a"
             ],
             [
              0.8888888888888888,
              "#fdca26"
             ],
             [
              1,
              "#f0f921"
             ]
            ],
            "type": "histogram2d"
           }
          ],
          "histogram2dcontour": [
           {
            "colorbar": {
             "outlinewidth": 0,
             "ticks": ""
            },
            "colorscale": [
             [
              0,
              "#0d0887"
             ],
             [
              0.1111111111111111,
              "#46039f"
             ],
             [
              0.2222222222222222,
              "#7201a8"
             ],
             [
              0.3333333333333333,
              "#9c179e"
             ],
             [
              0.4444444444444444,
              "#bd3786"
             ],
             [
              0.5555555555555556,
              "#d8576b"
             ],
             [
              0.6666666666666666,
              "#ed7953"
             ],
             [
              0.7777777777777778,
              "#fb9f3a"
             ],
             [
              0.8888888888888888,
              "#fdca26"
             ],
             [
              1,
              "#f0f921"
             ]
            ],
            "type": "histogram2dcontour"
           }
          ],
          "mesh3d": [
           {
            "colorbar": {
             "outlinewidth": 0,
             "ticks": ""
            },
            "type": "mesh3d"
           }
          ],
          "parcoords": [
           {
            "line": {
             "colorbar": {
              "outlinewidth": 0,
              "ticks": ""
             }
            },
            "type": "parcoords"
           }
          ],
          "pie": [
           {
            "automargin": true,
            "type": "pie"
           }
          ],
          "scatter": [
           {
            "fillpattern": {
             "fillmode": "overlay",
             "size": 10,
             "solidity": 0.2
            },
            "type": "scatter"
           }
          ],
          "scatter3d": [
           {
            "line": {
             "colorbar": {
              "outlinewidth": 0,
              "ticks": ""
             }
            },
            "marker": {
             "colorbar": {
              "outlinewidth": 0,
              "ticks": ""
             }
            },
            "type": "scatter3d"
           }
          ],
          "scattercarpet": [
           {
            "marker": {
             "colorbar": {
              "outlinewidth": 0,
              "ticks": ""
             }
            },
            "type": "scattercarpet"
           }
          ],
          "scattergeo": [
           {
            "marker": {
             "colorbar": {
              "outlinewidth": 0,
              "ticks": ""
             }
            },
            "type": "scattergeo"
           }
          ],
          "scattergl": [
           {
            "marker": {
             "colorbar": {
              "outlinewidth": 0,
              "ticks": ""
             }
            },
            "type": "scattergl"
           }
          ],
          "scattermapbox": [
           {
            "marker": {
             "colorbar": {
              "outlinewidth": 0,
              "ticks": ""
             }
            },
            "type": "scattermapbox"
           }
          ],
          "scatterpolar": [
           {
            "marker": {
             "colorbar": {
              "outlinewidth": 0,
              "ticks": ""
             }
            },
            "type": "scatterpolar"
           }
          ],
          "scatterpolargl": [
           {
            "marker": {
             "colorbar": {
              "outlinewidth": 0,
              "ticks": ""
             }
            },
            "type": "scatterpolargl"
           }
          ],
          "scatterternary": [
           {
            "marker": {
             "colorbar": {
              "outlinewidth": 0,
              "ticks": ""
             }
            },
            "type": "scatterternary"
           }
          ],
          "surface": [
           {
            "colorbar": {
             "outlinewidth": 0,
             "ticks": ""
            },
            "colorscale": [
             [
              0,
              "#0d0887"
             ],
             [
              0.1111111111111111,
              "#46039f"
             ],
             [
              0.2222222222222222,
              "#7201a8"
             ],
             [
              0.3333333333333333,
              "#9c179e"
             ],
             [
              0.4444444444444444,
              "#bd3786"
             ],
             [
              0.5555555555555556,
              "#d8576b"
             ],
             [
              0.6666666666666666,
              "#ed7953"
             ],
             [
              0.7777777777777778,
              "#fb9f3a"
             ],
             [
              0.8888888888888888,
              "#fdca26"
             ],
             [
              1,
              "#f0f921"
             ]
            ],
            "type": "surface"
           }
          ],
          "table": [
           {
            "cells": {
             "fill": {
              "color": "#EBF0F8"
             },
             "line": {
              "color": "white"
             }
            },
            "header": {
             "fill": {
              "color": "#C8D4E3"
             },
             "line": {
              "color": "white"
             }
            },
            "type": "table"
           }
          ]
         },
         "layout": {
          "annotationdefaults": {
           "arrowcolor": "#2a3f5f",
           "arrowhead": 0,
           "arrowwidth": 1
          },
          "autotypenumbers": "strict",
          "coloraxis": {
           "colorbar": {
            "outlinewidth": 0,
            "ticks": ""
           }
          },
          "colorscale": {
           "diverging": [
            [
             0,
             "#8e0152"
            ],
            [
             0.1,
             "#c51b7d"
            ],
            [
             0.2,
             "#de77ae"
            ],
            [
             0.3,
             "#f1b6da"
            ],
            [
             0.4,
             "#fde0ef"
            ],
            [
             0.5,
             "#f7f7f7"
            ],
            [
             0.6,
             "#e6f5d0"
            ],
            [
             0.7,
             "#b8e186"
            ],
            [
             0.8,
             "#7fbc41"
            ],
            [
             0.9,
             "#4d9221"
            ],
            [
             1,
             "#276419"
            ]
           ],
           "sequential": [
            [
             0,
             "#0d0887"
            ],
            [
             0.1111111111111111,
             "#46039f"
            ],
            [
             0.2222222222222222,
             "#7201a8"
            ],
            [
             0.3333333333333333,
             "#9c179e"
            ],
            [
             0.4444444444444444,
             "#bd3786"
            ],
            [
             0.5555555555555556,
             "#d8576b"
            ],
            [
             0.6666666666666666,
             "#ed7953"
            ],
            [
             0.7777777777777778,
             "#fb9f3a"
            ],
            [
             0.8888888888888888,
             "#fdca26"
            ],
            [
             1,
             "#f0f921"
            ]
           ],
           "sequentialminus": [
            [
             0,
             "#0d0887"
            ],
            [
             0.1111111111111111,
             "#46039f"
            ],
            [
             0.2222222222222222,
             "#7201a8"
            ],
            [
             0.3333333333333333,
             "#9c179e"
            ],
            [
             0.4444444444444444,
             "#bd3786"
            ],
            [
             0.5555555555555556,
             "#d8576b"
            ],
            [
             0.6666666666666666,
             "#ed7953"
            ],
            [
             0.7777777777777778,
             "#fb9f3a"
            ],
            [
             0.8888888888888888,
             "#fdca26"
            ],
            [
             1,
             "#f0f921"
            ]
           ]
          },
          "colorway": [
           "#636efa",
           "#EF553B",
           "#00cc96",
           "#ab63fa",
           "#FFA15A",
           "#19d3f3",
           "#FF6692",
           "#B6E880",
           "#FF97FF",
           "#FECB52"
          ],
          "font": {
           "color": "#2a3f5f"
          },
          "geo": {
           "bgcolor": "white",
           "lakecolor": "white",
           "landcolor": "#E5ECF6",
           "showlakes": true,
           "showland": true,
           "subunitcolor": "white"
          },
          "hoverlabel": {
           "align": "left"
          },
          "hovermode": "closest",
          "mapbox": {
           "style": "light"
          },
          "paper_bgcolor": "white",
          "plot_bgcolor": "#E5ECF6",
          "polar": {
           "angularaxis": {
            "gridcolor": "white",
            "linecolor": "white",
            "ticks": ""
           },
           "bgcolor": "#E5ECF6",
           "radialaxis": {
            "gridcolor": "white",
            "linecolor": "white",
            "ticks": ""
           }
          },
          "scene": {
           "xaxis": {
            "backgroundcolor": "#E5ECF6",
            "gridcolor": "white",
            "gridwidth": 2,
            "linecolor": "white",
            "showbackground": true,
            "ticks": "",
            "zerolinecolor": "white"
           },
           "yaxis": {
            "backgroundcolor": "#E5ECF6",
            "gridcolor": "white",
            "gridwidth": 2,
            "linecolor": "white",
            "showbackground": true,
            "ticks": "",
            "zerolinecolor": "white"
           },
           "zaxis": {
            "backgroundcolor": "#E5ECF6",
            "gridcolor": "white",
            "gridwidth": 2,
            "linecolor": "white",
            "showbackground": true,
            "ticks": "",
            "zerolinecolor": "white"
           }
          },
          "shapedefaults": {
           "line": {
            "color": "#2a3f5f"
           }
          },
          "ternary": {
           "aaxis": {
            "gridcolor": "white",
            "linecolor": "white",
            "ticks": ""
           },
           "baxis": {
            "gridcolor": "white",
            "linecolor": "white",
            "ticks": ""
           },
           "bgcolor": "#E5ECF6",
           "caxis": {
            "gridcolor": "white",
            "linecolor": "white",
            "ticks": ""
           }
          },
          "title": {
           "x": 0.05
          },
          "xaxis": {
           "automargin": true,
           "gridcolor": "white",
           "linecolor": "white",
           "ticks": "",
           "title": {
            "standoff": 15
           },
           "zerolinecolor": "white",
           "zerolinewidth": 2
          },
          "yaxis": {
           "automargin": true,
           "gridcolor": "white",
           "linecolor": "white",
           "ticks": "",
           "title": {
            "standoff": 15
           },
           "zerolinecolor": "white",
           "zerolinewidth": 2
          }
         }
        },
        "width": 500,
        "xaxis": {
         "anchor": "y",
         "constrain": "domain",
         "domain": [
          0,
          1
         ],
         "scaleanchor": "y",
         "title": {
          "text": "pies"
         }
        },
        "yaxis": {
         "anchor": "x",
         "autorange": "reversed",
         "constrain": "domain",
         "domain": [
          0,
          1
         ],
         "title": {
          "text": "cakes"
         }
        }
       }
      }
     },
     "metadata": {},
     "output_type": "display_data"
    }
   ],
   "source": [
    "fig = px.imshow(mcs_results_mat, x=mcs_results_mat.columns, y=mcs_results_mat.index)\n",
    "fig.update_layout(width=500,height=500)\n",
    "fig.show()"
   ]
  },
  {
   "cell_type": "markdown",
   "metadata": {},
   "source": [
    "### Solution Approach #2: Linear Optimization using PuLP"
   ]
  },
  {
   "cell_type": "code",
   "execution_count": 7,
   "metadata": {},
   "outputs": [
    {
     "name": "stderr",
     "output_type": "stream",
     "text": [
      "c:\\Users\\Sebas\\anaconda3\\envs\\optimization_env\\lib\\site-packages\\pulp\\pulp.py:1352: UserWarning:\n",
      "\n",
      "Spaces are not permitted in the name. Converted to '_'\n",
      "\n"
     ]
    }
   ],
   "source": [
    "model = LpProblem('Maximize Bakery Profits', sense= LpMaximize)"
   ]
  },
  {
   "cell_type": "code",
   "execution_count": 8,
   "metadata": {},
   "outputs": [],
   "source": [
    "# define decision variables\n",
    "c = LpVariable('C', lowBound=0, upBound=None, cat='Integer')\n",
    "p = LpVariable('P', lowBound=0, upBound=None, cat='Integer')"
   ]
  },
  {
   "cell_type": "code",
   "execution_count": 9,
   "metadata": {},
   "outputs": [],
   "source": [
    "# define constraints\n",
    "model += c + p <= 30 # at least 30 items\n",
    "model += c >= 5 # at least 5 cakes\n",
    "model += p >= 10 # at least 10 pies"
   ]
  },
  {
   "cell_type": "code",
   "execution_count": 10,
   "metadata": {},
   "outputs": [],
   "source": [
    "def objective_fun(c, p):\n",
    "    return 1.5 * c + 2.0 * p"
   ]
  },
  {
   "cell_type": "code",
   "execution_count": 11,
   "metadata": {},
   "outputs": [],
   "source": [
    "# define objective function\n",
    "#model += 1.5 * c + 2.0 * p\n",
    "model += objective_fun(c, p)"
   ]
  },
  {
   "cell_type": "code",
   "execution_count": 12,
   "metadata": {},
   "outputs": [
    {
     "data": {
      "text/plain": [
       "Maximize_Bakery_Profits:\n",
       "MAXIMIZE\n",
       "1.5*C + 2.0*P + 0.0\n",
       "SUBJECT TO\n",
       "_C1: C + P <= 30\n",
       "\n",
       "_C2: C >= 5\n",
       "\n",
       "_C3: P >= 10\n",
       "\n",
       "VARIABLES\n",
       "0 <= C Integer\n",
       "0 <= P Integer"
      ]
     },
     "execution_count": 12,
     "metadata": {},
     "output_type": "execute_result"
    }
   ],
   "source": [
    "model"
   ]
  },
  {
   "cell_type": "code",
   "execution_count": 13,
   "metadata": {},
   "outputs": [
    {
     "name": "stdout",
     "output_type": "stream",
     "text": [
      "solve model...\n",
      "model status:  Not Solved\n",
      "model status:  Optimal\n",
      "optimized number of cakes:  5\n",
      "optimized number of pies:  25\n",
      "maximized price:  57.5\n"
     ]
    }
   ],
   "source": [
    "# solve model\n",
    "print('solve model...')\n",
    "print('model status: ', LpStatus[model.status])\n",
    "model.solve()\n",
    "print('model status: ', LpStatus[model.status])\n",
    "print('optimized number of cakes: ', int(c.varValue))\n",
    "print('optimized number of pies: ', int(p.varValue))\n",
    "print('maximized price: ', value(model.objective))"
   ]
  },
  {
   "cell_type": "markdown",
   "metadata": {},
   "source": [
    "## Use Case 2 - Personnel Optimization in a Post Office:\n",
    "- A post office is looking to hire postman, with the requirements to work 5 consecutive days and then 2 days off. \n",
    "- The estimated least number of postmen needed for each day of the week is: Monday: 25, Tuesday: 32, Wednesday: 22, Thursday: 18, Friday: 24, Saturday: 12, Sunday: 14\n",
    "- The objective is to hire the minimum number of workers\n",
    "\n",
    "To solve this problem, we need to write down the constraints in terms of the number of workers we need to start working on each day such as; x_0 is the number of workers starting to work on Monday, x_1 is the number of workers starting to work on Tuesday, etc. By doing so, we can store x_0 from Monday to Friday and x_1 from Tuesday to Saturday since they need to work 5 consecutive days"
   ]
  },
  {
   "cell_type": "markdown",
   "metadata": {},
   "source": [
    "### Solution Approach #1: Monte-Carlo Simulation using Random Search"
   ]
  },
  {
   "cell_type": "code",
   "execution_count": 14,
   "metadata": {},
   "outputs": [
    {
     "name": "stdout",
     "output_type": "stream",
     "text": [
      "92\n",
      "64\n",
      "63\n",
      "57\n",
      "53\n",
      "52\n",
      "50\n",
      "43\n",
      "40\n",
      "38\n",
      "36\n"
     ]
    }
   ],
   "source": [
    "# let´s treat the number of workers for each week day as independent variables\n",
    "workers_mon = []\n",
    "workers_tue = []\n",
    "workers_wed = []\n",
    "workers_thu = []\n",
    "workers_fri = []\n",
    "workers_sat = []\n",
    "workers_sun = []\n",
    "workers = []\n",
    "\n",
    "ntrials = 10000\n",
    "for trial in range(ntrials):\n",
    "    daily_workers = [int(n) for n in np.random.uniform(low=[0,0,0,0,0,0,0], high=[25,32,22,18,24,12,14], size=7)]\n",
    "    wmon = daily_workers[0]\n",
    "    wtue = daily_workers[1]\n",
    "    wwed = daily_workers[2]\n",
    "    wthu = daily_workers[3]\n",
    "    wfri = daily_workers[4]\n",
    "    wsat = daily_workers[5]\n",
    "    wsun = daily_workers[6]\n",
    "\n",
    "    # check boundary conditions          \n",
    "    cond0 = wmon + wthu + wfri + wsat + wsun >= 25\n",
    "    cond1 = wmon + wtue + wfri + wsat + wsun >= 32\n",
    "    cond2 = wmon + wthu + wwed + wsat + wsun >= 22\n",
    "    cond3 = wmon + wthu + wwed + wthu + wsun >= 18\n",
    "    cond4 = wmon + wthu + wwed + wthu + wfri >= 24\n",
    "    cond5 = wtue + wwed + wthu + wfri + wsat >= 12\n",
    "    cond6 = wwed + wthu + wfri + wsat + wsun >= 14\n",
    "                            \n",
    "    if cond0 and cond1 and cond2 and cond3 and cond4 and cond5 and cond6:\n",
    "        # total number of workers\n",
    "        num_workers = wmon+wtue+wwed+wthu+wfri+wsat+wsun\n",
    "        # print current number of minimal workers\n",
    "        if len(workers)>0 and num_workers < np.min(workers):\n",
    "            print(num_workers)\n",
    "        # append number of workers for each week day\n",
    "        workers_mon.append(wmon)\n",
    "        workers_tue.append(wtue)\n",
    "        workers_wed.append(wwed)\n",
    "        workers_thu.append(wthu)\n",
    "        workers_fri.append(wfri)\n",
    "        workers_sat.append(wsat)\n",
    "        workers_sun.append(wsun)\n",
    "        workers.append(num_workers)"
   ]
  },
  {
   "cell_type": "code",
   "execution_count": 15,
   "metadata": {},
   "outputs": [
    {
     "data": {
      "text/html": [
       "<div>\n",
       "<style scoped>\n",
       "    .dataframe tbody tr th:only-of-type {\n",
       "        vertical-align: middle;\n",
       "    }\n",
       "\n",
       "    .dataframe tbody tr th {\n",
       "        vertical-align: top;\n",
       "    }\n",
       "\n",
       "    .dataframe thead th {\n",
       "        text-align: right;\n",
       "    }\n",
       "</style>\n",
       "<table border=\"1\" class=\"dataframe\">\n",
       "  <thead>\n",
       "    <tr style=\"text-align: right;\">\n",
       "      <th></th>\n",
       "      <th>monday</th>\n",
       "      <th>tuesday</th>\n",
       "      <th>wednesday</th>\n",
       "      <th>thursday</th>\n",
       "      <th>friday</th>\n",
       "      <th>saturday</th>\n",
       "      <th>sunday</th>\n",
       "      <th>total workers</th>\n",
       "    </tr>\n",
       "  </thead>\n",
       "  <tbody>\n",
       "    <tr>\n",
       "      <th>7626</th>\n",
       "      <td>17</td>\n",
       "      <td>4</td>\n",
       "      <td>2</td>\n",
       "      <td>0</td>\n",
       "      <td>9</td>\n",
       "      <td>1</td>\n",
       "      <td>3</td>\n",
       "      <td>36</td>\n",
       "    </tr>\n",
       "    <tr>\n",
       "      <th>5077</th>\n",
       "      <td>14</td>\n",
       "      <td>3</td>\n",
       "      <td>4</td>\n",
       "      <td>1</td>\n",
       "      <td>8</td>\n",
       "      <td>0</td>\n",
       "      <td>8</td>\n",
       "      <td>38</td>\n",
       "    </tr>\n",
       "    <tr>\n",
       "      <th>3211</th>\n",
       "      <td>15</td>\n",
       "      <td>2</td>\n",
       "      <td>7</td>\n",
       "      <td>1</td>\n",
       "      <td>12</td>\n",
       "      <td>2</td>\n",
       "      <td>1</td>\n",
       "      <td>40</td>\n",
       "    </tr>\n",
       "    <tr>\n",
       "      <th>144</th>\n",
       "      <td>18</td>\n",
       "      <td>3</td>\n",
       "      <td>2</td>\n",
       "      <td>1</td>\n",
       "      <td>2</td>\n",
       "      <td>4</td>\n",
       "      <td>10</td>\n",
       "      <td>40</td>\n",
       "    </tr>\n",
       "    <tr>\n",
       "      <th>7238</th>\n",
       "      <td>17</td>\n",
       "      <td>6</td>\n",
       "      <td>5</td>\n",
       "      <td>1</td>\n",
       "      <td>1</td>\n",
       "      <td>10</td>\n",
       "      <td>0</td>\n",
       "      <td>40</td>\n",
       "    </tr>\n",
       "  </tbody>\n",
       "</table>\n",
       "</div>"
      ],
      "text/plain": [
       "      monday  tuesday  wednesday  thursday  friday  saturday  sunday  \\\n",
       "7626      17        4          2         0       9         1       3   \n",
       "5077      14        3          4         1       8         0       8   \n",
       "3211      15        2          7         1      12         2       1   \n",
       "144       18        3          2         1       2         4      10   \n",
       "7238      17        6          5         1       1        10       0   \n",
       "\n",
       "      total workers  \n",
       "7626             36  \n",
       "5077             38  \n",
       "3211             40  \n",
       "144              40  \n",
       "7238             40  "
      ]
     },
     "execution_count": 15,
     "metadata": {},
     "output_type": "execute_result"
    }
   ],
   "source": [
    "# make dataframe\n",
    "d = {'monday': workers_mon, \n",
    "     'tuesday': workers_tue,\n",
    "     'wednesday': workers_wed,\n",
    "     'thursday': workers_thu,\n",
    "     'friday': workers_fri,\n",
    "     'saturday': workers_sat,\n",
    "     'sunday': workers_sun, \n",
    "     'total workers': workers}\n",
    "mcs_results = pd.DataFrame(data=d)\n",
    "\n",
    "# drop duplicates\n",
    "mcs_results = mcs_results.drop_duplicates()\n",
    "\n",
    "# sort by number of total workers\n",
    "mcs_results = mcs_results.sort_values(by='total workers', ascending=True)\n",
    "mcs_results.head()"
   ]
  },
  {
   "cell_type": "markdown",
   "metadata": {},
   "source": [
    "### Solution Approach #2: Linear Optimization using PuLP"
   ]
  },
  {
   "cell_type": "code",
   "execution_count": 16,
   "metadata": {},
   "outputs": [
    {
     "name": "stderr",
     "output_type": "stream",
     "text": [
      "c:\\Users\\Sebas\\anaconda3\\envs\\optimization_env\\lib\\site-packages\\pulp\\pulp.py:1352: UserWarning:\n",
      "\n",
      "Spaces are not permitted in the name. Converted to '_'\n",
      "\n"
     ]
    }
   ],
   "source": [
    "#Initialize model\n",
    "model = LpProblem(\"Minimize Number of Workers\", LpMinimize)\n",
    "#Define decision variables\n",
    "days = list(range(7))"
   ]
  },
  {
   "cell_type": "code",
   "execution_count": 17,
   "metadata": {},
   "outputs": [],
   "source": [
    "x = LpVariable.dicts('workers_', days, lowBound=0, upBound=None, cat='Integer')"
   ]
  },
  {
   "cell_type": "code",
   "execution_count": 18,
   "metadata": {},
   "outputs": [
    {
     "data": {
      "text/plain": [
       "{0: workers__0,\n",
       " 1: workers__1,\n",
       " 2: workers__2,\n",
       " 3: workers__3,\n",
       " 4: workers__4,\n",
       " 5: workers__5,\n",
       " 6: workers__6}"
      ]
     },
     "execution_count": 18,
     "metadata": {},
     "output_type": "execute_result"
    }
   ],
   "source": [
    "x"
   ]
  },
  {
   "cell_type": "code",
   "execution_count": 19,
   "metadata": {},
   "outputs": [
    {
     "data": {
      "text/plain": [
       "[workers__0,\n",
       " workers__1,\n",
       " workers__2,\n",
       " workers__3,\n",
       " workers__4,\n",
       " workers__5,\n",
       " workers__6]"
      ]
     },
     "execution_count": 19,
     "metadata": {},
     "output_type": "execute_result"
    }
   ],
   "source": [
    "[x[i] for i in days]"
   ]
  },
  {
   "cell_type": "code",
   "execution_count": 20,
   "metadata": {},
   "outputs": [],
   "source": [
    "# Define objective function/model\n",
    "model += lpSum([x[i] for i in days])"
   ]
  },
  {
   "cell_type": "code",
   "execution_count": 21,
   "metadata": {},
   "outputs": [],
   "source": [
    "# Define constraints\n",
    "model += x[0] + x[3] + x[4] + x[5] + x[6] >= 25\n",
    "model += x[0] + x[1] + x[4] + x[5] + x[6] >= 32\n",
    "model += x[0] + x[1] + x[2] + x[5] + x[6] >= 22\n",
    "model += x[0] + x[1] + x[2] + x[3] + x[6] >= 18\n",
    "model += x[0] + x[1] + x[2] + x[3] + x[4] >= 24\n",
    "model += x[1] + x[2] + x[3] + x[4] + x[5] >= 12\n",
    "model += x[2] + x[3] + x[4] + x[5] + x[6] >= 14"
   ]
  },
  {
   "cell_type": "code",
   "execution_count": 22,
   "metadata": {},
   "outputs": [
    {
     "name": "stdout",
     "output_type": "stream",
     "text": [
      "Status: Optimal\n"
     ]
    }
   ],
   "source": [
    "# Solve model\n",
    "model.solve()\n",
    "#Print model status\n",
    "print('Status:', LpStatus[model.status])"
   ]
  },
  {
   "cell_type": "code",
   "execution_count": 23,
   "metadata": {},
   "outputs": [
    {
     "name": "stdout",
     "output_type": "stream",
     "text": [
      "workers__0 = 7.0\n",
      "workers__1 = 7.0\n",
      "workers__2 = 0.0\n",
      "workers__3 = 0.0\n",
      "workers__4 = 10.0\n",
      "workers__5 = 0.0\n",
      "workers__6 = 8.0\n"
     ]
    }
   ],
   "source": [
    "# Print solution variables\n",
    "for variable in model.variables():\n",
    "    print ('{} = {}'.format(variable.name, variable.varValue))"
   ]
  },
  {
   "cell_type": "code",
   "execution_count": 24,
   "metadata": {},
   "outputs": [
    {
     "name": "stdout",
     "output_type": "stream",
     "text": [
      "The least total number of workers required is:  32\n"
     ]
    }
   ],
   "source": [
    "# The least total number of workers required is: \n",
    "workers = 0\n",
    "for variable in model.variables():\n",
    "    workers += variable.varValue\n",
    "print('The least total number of workers required is: ', int(workers))"
   ]
  },
  {
   "cell_type": "markdown",
   "metadata": {},
   "source": [
    "### Solution Approach #3: Genetic Algorithm Optimization"
   ]
  },
  {
   "cell_type": "code",
   "execution_count": 25,
   "metadata": {},
   "outputs": [
    {
     "name": "stdout",
     "output_type": "stream",
     "text": [
      " The best solution found:                                                                           \n",
      " [9. 7. 0. 0. 9. 2. 5.]\n",
      "\n",
      " Objective function:\n",
      " 32.0\n"
     ]
    },
    {
     "data": {
      "image/png": "[encoded data removed]",
      "text/plain": [
       "<Figure size 640x480 with 1 Axes>"
      ]
     },
     "metadata": {},
     "output_type": "display_data"
    },
    {
     "name": "stdout",
     "output_type": "stream",
     "text": [
      "\n",
      "Warning: GA is terminated due to the maximum number of iterations without improvement was met!"
     ]
    }
   ],
   "source": [
    "# define parameters\n",
    "algorithm_param = {'max_num_iteration': 100,\\\n",
    "                   'population_size':1000,\\\n",
    "                   'mutation_probability':0.1,\\\n",
    "                   'elit_ratio': 0.01,\\\n",
    "                   'crossover_probability': 0.5,\\\n",
    "                   'parents_portion': 0.3,\\\n",
    "                   'crossover_type':'uniform',\\\n",
    "                   'max_iteration_without_improv':20}\n",
    "# define variables\n",
    "varbound=np.array([[0,25],[0,32],[0,22],[0,18],[0,24],[0,12],[0,14]])\n",
    "vartype=np.array([['int'],['int'],['int'],['int'],['int'],['int'],['int']])\n",
    "\n",
    "# define objective function\n",
    "def f(x):\n",
    "    cond0 = x[0] + x[3] + x[4] + x[5] + x[6] < 25 \n",
    "    cond1 = x[0] + x[1] + x[4] + x[5] + x[6] < 32\n",
    "    cond2 = x[0] + x[1] + x[2] + x[5] + x[6] < 22\n",
    "    cond3 = x[0] + x[1] + x[2] + x[3] + x[6] < 18\n",
    "    cond4 = x[0] + x[1] + x[2] + x[3] + x[4] < 24\n",
    "    cond5 = x[1] + x[2] + x[3] + x[4] + x[5] < 12\n",
    "    cond6 = x[2] + x[3] + x[4] + x[5] + x[6] < 14\n",
    "    \n",
    "    violation0 = x[0] + x[3] + x[4] + x[5] + x[6] - 25\n",
    "    violation1 = x[0] + x[1] + x[4] + x[5] + x[6] - 32\n",
    "    violation2 = x[0] + x[1] + x[2] + x[5] + x[6] - 22\n",
    "    violation3 = x[0] + x[1] + x[2] + x[3] + x[6] - 18\n",
    "    violation4 = x[0] + x[1] + x[2] + x[3] + x[4] - 24\n",
    "    violation5 = x[1] + x[2] + x[3] + x[4] + x[5] - 12\n",
    "    violation6 = x[2] + x[3] + x[4] + x[5] + x[6] - 14\n",
    "    \n",
    "    # apply a penalty each time the contraints are met\n",
    "    if cond0 or cond1 or cond2 or cond3 or cond4 or cond5 or cond6:\n",
    "        penalty = violation0**2 + violation1**2  + violation2**2  + violation3**2  + violation4**2  + violation5**2  + violation6**2\n",
    "        return np.sum(x) + penalty\n",
    "    else:\n",
    "        return np.sum(x) \n",
    "\n",
    "model = ga(function=f,\n",
    "         dimension=7, # one variable for each day of the week\n",
    "         variable_type_mixed=vartype,\n",
    "         variable_boundaries=varbound,\n",
    "         algorithm_parameters=algorithm_param)\n",
    "\n",
    "model.run()"
   ]
  },
  {
   "cell_type": "markdown",
   "metadata": {},
   "source": [
    "## Use Case 3 - Training Optimization using PuLP\n",
    "- Optimize weekly training by maximizing both endurance and strength"
   ]
  },
  {
   "cell_type": "code",
   "execution_count": 26,
   "metadata": {},
   "outputs": [
    {
     "name": "stdout",
     "output_type": "stream",
     "text": [
      "Model Status:  Optimal\n",
      "exercise__I1_Run = 0.0\n",
      "exercise__I2_Runs = 0.0\n",
      "exercise__I3_Runs = 1.0\n",
      "exercise__NI_Runs = 0.0\n",
      "exercise__Pull = 1.0\n",
      "exercise__Push = 0.0\n",
      "Total Benefit =  105.0\n"
     ]
    }
   ],
   "source": [
    "exercise = ['Push','Pull','I1-Run','I2-Runs','I3-Runs','NI-Runs']\n",
    "impact = {'Push':33, 'Pull':33, 'I1-Run':100, 'I2-Runs':120, 'I3-Runs':80, 'NI-Runs':60} # impact referenced to one full-out tempo run e.g. 1x300m\n",
    "benefit_endurance = {'Push':0, 'Pull':0, 'I1-Run':40, 'I2-Runs':60, 'I3-Runs':80, 'NI-Runs':100} # general endurance benefit\n",
    "benefit_strength = {'Push':50, 'Pull':50, 'I1-Run':20, 'I2-Runs':25, 'I3-Runs':0, 'NI-Runs':0} # benefit in strength\n",
    "\n",
    "# Initialize Class\n",
    "model = LpProblem(\"Maximizing 400m Performance\", LpMaximize)\n",
    "\n",
    "# Define Decision Variables\n",
    "x = LpVariable.dicts('exercise_', exercise, cat='Binary') # binary decision var meaning either do exercise or don´t\n",
    "\n",
    "# Define Objective\n",
    "model += lpSum([benefit_endurance[i]*x[i] for i in exercise]) + 0.5*lpSum([benefit_strength[i]*x[i] for i in exercise])\n",
    "\n",
    "# Define Constraints\n",
    "model += lpSum([impact[i]*x[i] for i in exercise]) <= 130 # limit total impact\n",
    "model += x['I1-Run'] + x['I2-Runs'] + x['I3-Runs'] == 1 # choose either I1-run, I2-runs or I3-runs\n",
    "model += x['I1-Run'] - x['Push'] <= 0 # if I1-run is selected, then also do Push\n",
    "#model += x['Push'] == 1 # in any case (not!) do Push exercise\n",
    "#model += x['Pull'] == 0 # in any case (not!) do Pull exercise\n",
    "#model += x['I1-Run'] == 1 # in any case (not!) do I1-run\n",
    "#model += x['I2-Runs'] == 1 # in any case (not!) do I2-runs\n",
    "#model += x['I3-Runs'] == 1 # in any case (not!) do I3-runs\n",
    "#model += x['NI-Runs'] == 1 # in any case (not!) do NI-runs\n",
    "\n",
    "# Solve Model\n",
    "model.solve()\n",
    "\n",
    "# Print status\n",
    "print('Model Status: ', LpStatus[model.status])\n",
    "\n",
    "# Print variables\n",
    "for v in model.variables():\n",
    "    print(v.name, \"=\", v.varValue)\n",
    "\n",
    "# Print Objective Fun. Value\n",
    "print(\"Total Benefit = \", value(model.objective))"
   ]
  },
  {
   "cell_type": "markdown",
   "metadata": {},
   "source": [
    "## Use Case 4 - Supply Chain Analytics using PuLP\n",
    "- Minimize Costs\n",
    "\n",
    "Ressources: \n",
    "https://campus.datacamp.com/courses/supply-chain-analytics-in-python/basics-of-supply-chain-optimization-and-pulp"
   ]
  },
  {
   "cell_type": "code",
   "execution_count": 27,
   "metadata": {},
   "outputs": [
    {
     "data": {
      "text/html": [
       "<div>\n",
       "<style scoped>\n",
       "    .dataframe tbody tr th:only-of-type {\n",
       "        vertical-align: middle;\n",
       "    }\n",
       "\n",
       "    .dataframe tbody tr th {\n",
       "        vertical-align: top;\n",
       "    }\n",
       "\n",
       "    .dataframe thead th {\n",
       "        text-align: right;\n",
       "    }\n",
       "</style>\n",
       "<table border=\"1\" class=\"dataframe\">\n",
       "  <thead>\n",
       "    <tr style=\"text-align: right;\">\n",
       "      <th></th>\n",
       "      <th>Low_Cap</th>\n",
       "      <th>High_Cap</th>\n",
       "    </tr>\n",
       "    <tr>\n",
       "      <th>Supply_Region</th>\n",
       "      <th></th>\n",
       "      <th></th>\n",
       "    </tr>\n",
       "  </thead>\n",
       "  <tbody>\n",
       "    <tr>\n",
       "      <th>USA</th>\n",
       "      <td>6500</td>\n",
       "      <td>9500</td>\n",
       "    </tr>\n",
       "    <tr>\n",
       "      <th>Germany</th>\n",
       "      <td>4980</td>\n",
       "      <td>7270</td>\n",
       "    </tr>\n",
       "    <tr>\n",
       "      <th>Japan</th>\n",
       "      <td>6230</td>\n",
       "      <td>9100</td>\n",
       "    </tr>\n",
       "    <tr>\n",
       "      <th>Brazil</th>\n",
       "      <td>3230</td>\n",
       "      <td>4730</td>\n",
       "    </tr>\n",
       "    <tr>\n",
       "      <th>India</th>\n",
       "      <td>2110</td>\n",
       "      <td>3080</td>\n",
       "    </tr>\n",
       "  </tbody>\n",
       "</table>\n",
       "</div>"
      ],
      "text/plain": [
       "               Low_Cap  High_Cap\n",
       "Supply_Region                   \n",
       "USA               6500      9500\n",
       "Germany           4980      7270\n",
       "Japan             6230      9100\n",
       "Brazil            3230      4730\n",
       "India             2110      3080"
      ]
     },
     "execution_count": 27,
     "metadata": {},
     "output_type": "execute_result"
    }
   ],
   "source": [
    "# import fix_costs data\n",
    "fix_cost = pd.read_csv('../data/fixcosts.csv', \n",
    "                      sep=';',\n",
    "                      index_col='Supply_Region')\n",
    "fix_cost.head()\n"
   ]
  },
  {
   "cell_type": "code",
   "execution_count": 28,
   "metadata": {},
   "outputs": [
    {
     "data": {
      "text/plain": [
       "Low_Cap     int64\n",
       "High_Cap    int64\n",
       "dtype: object"
      ]
     },
     "execution_count": 28,
     "metadata": {},
     "output_type": "execute_result"
    }
   ],
   "source": [
    "# check data type\n",
    "fix_cost.dtypes"
   ]
  },
  {
   "cell_type": "code",
   "execution_count": 29,
   "metadata": {},
   "outputs": [
    {
     "data": {
      "text/html": [
       "<div>\n",
       "<style scoped>\n",
       "    .dataframe tbody tr th:only-of-type {\n",
       "        vertical-align: middle;\n",
       "    }\n",
       "\n",
       "    .dataframe tbody tr th {\n",
       "        vertical-align: top;\n",
       "    }\n",
       "\n",
       "    .dataframe thead th {\n",
       "        text-align: right;\n",
       "    }\n",
       "</style>\n",
       "<table border=\"1\" class=\"dataframe\">\n",
       "  <thead>\n",
       "    <tr style=\"text-align: right;\">\n",
       "      <th></th>\n",
       "      <th>USA</th>\n",
       "      <th>Germany</th>\n",
       "      <th>Japan</th>\n",
       "      <th>Brazil</th>\n",
       "      <th>India</th>\n",
       "    </tr>\n",
       "    <tr>\n",
       "      <th>Supply_Region</th>\n",
       "      <th></th>\n",
       "      <th></th>\n",
       "      <th></th>\n",
       "      <th></th>\n",
       "      <th></th>\n",
       "    </tr>\n",
       "  </thead>\n",
       "  <tbody>\n",
       "    <tr>\n",
       "      <th>USA</th>\n",
       "      <td>6</td>\n",
       "      <td>13</td>\n",
       "      <td>20</td>\n",
       "      <td>12</td>\n",
       "      <td>17</td>\n",
       "    </tr>\n",
       "    <tr>\n",
       "      <th>Germany</th>\n",
       "      <td>13</td>\n",
       "      <td>6</td>\n",
       "      <td>14</td>\n",
       "      <td>14</td>\n",
       "      <td>13</td>\n",
       "    </tr>\n",
       "    <tr>\n",
       "      <th>Japan</th>\n",
       "      <td>20</td>\n",
       "      <td>14</td>\n",
       "      <td>3</td>\n",
       "      <td>21</td>\n",
       "      <td>9</td>\n",
       "    </tr>\n",
       "    <tr>\n",
       "      <th>Brazil</th>\n",
       "      <td>12</td>\n",
       "      <td>14</td>\n",
       "      <td>21</td>\n",
       "      <td>8</td>\n",
       "      <td>21</td>\n",
       "    </tr>\n",
       "    <tr>\n",
       "      <th>India</th>\n",
       "      <td>22</td>\n",
       "      <td>13</td>\n",
       "      <td>10</td>\n",
       "      <td>23</td>\n",
       "      <td>8</td>\n",
       "    </tr>\n",
       "  </tbody>\n",
       "</table>\n",
       "</div>"
      ],
      "text/plain": [
       "               USA  Germany  Japan  Brazil  India\n",
       "Supply_Region                                    \n",
       "USA              6       13     20      12     17\n",
       "Germany         13        6     14      14     13\n",
       "Japan           20       14      3      21      9\n",
       "Brazil          12       14     21       8     21\n",
       "India           22       13     10      23      8"
      ]
     },
     "execution_count": 29,
     "metadata": {},
     "output_type": "execute_result"
    }
   ],
   "source": [
    "# import var_costs data\n",
    "var_cost = pd.read_csv('../data/varcosts.csv', \n",
    "                      sep=';',\n",
    "                      index_col='Supply_Region')\n",
    "var_cost.head()"
   ]
  },
  {
   "cell_type": "code",
   "execution_count": 30,
   "metadata": {},
   "outputs": [
    {
     "data": {
      "text/plain": [
       "USA        int64\n",
       "Germany    int64\n",
       "Japan      int64\n",
       "Brazil     int64\n",
       "India      int64\n",
       "dtype: object"
      ]
     },
     "execution_count": 30,
     "metadata": {},
     "output_type": "execute_result"
    }
   ],
   "source": [
    "# check data type\n",
    "var_cost.dtypes"
   ]
  },
  {
   "cell_type": "code",
   "execution_count": 31,
   "metadata": {},
   "outputs": [
    {
     "data": {
      "text/html": [
       "<div>\n",
       "<style scoped>\n",
       "    .dataframe tbody tr th:only-of-type {\n",
       "        vertical-align: middle;\n",
       "    }\n",
       "\n",
       "    .dataframe tbody tr th {\n",
       "        vertical-align: top;\n",
       "    }\n",
       "\n",
       "    .dataframe thead th {\n",
       "        text-align: right;\n",
       "    }\n",
       "</style>\n",
       "<table border=\"1\" class=\"dataframe\">\n",
       "  <thead>\n",
       "    <tr style=\"text-align: right;\">\n",
       "      <th></th>\n",
       "      <th>Dmd</th>\n",
       "    </tr>\n",
       "    <tr>\n",
       "      <th>Supply_Region</th>\n",
       "      <th></th>\n",
       "    </tr>\n",
       "  </thead>\n",
       "  <tbody>\n",
       "    <tr>\n",
       "      <th>USA</th>\n",
       "      <td>2719,6</td>\n",
       "    </tr>\n",
       "    <tr>\n",
       "      <th>Germany</th>\n",
       "      <td>84,1</td>\n",
       "    </tr>\n",
       "    <tr>\n",
       "      <th>Japan</th>\n",
       "      <td>1676,8</td>\n",
       "    </tr>\n",
       "    <tr>\n",
       "      <th>Brazil</th>\n",
       "      <td>145,4</td>\n",
       "    </tr>\n",
       "    <tr>\n",
       "      <th>India</th>\n",
       "      <td>156,4</td>\n",
       "    </tr>\n",
       "  </tbody>\n",
       "</table>\n",
       "</div>"
      ],
      "text/plain": [
       "                  Dmd\n",
       "Supply_Region        \n",
       "USA            2719,6\n",
       "Germany          84,1\n",
       "Japan          1676,8\n",
       "Brazil          145,4\n",
       "India           156,4"
      ]
     },
     "execution_count": 31,
     "metadata": {},
     "output_type": "execute_result"
    }
   ],
   "source": [
    "# import demand data\n",
    "demand = pd.read_csv('../data/demand.csv', \n",
    "                      sep=';',\n",
    "                      index_col='Supply_Region')\n",
    "demand.head()"
   ]
  },
  {
   "cell_type": "code",
   "execution_count": 32,
   "metadata": {},
   "outputs": [
    {
     "data": {
      "text/plain": [
       "Dmd    object\n",
       "dtype: object"
      ]
     },
     "execution_count": 32,
     "metadata": {},
     "output_type": "execute_result"
    }
   ],
   "source": [
    "# check data type\n",
    "demand.dtypes"
   ]
  },
  {
   "cell_type": "code",
   "execution_count": 33,
   "metadata": {},
   "outputs": [],
   "source": [
    "# adapt data type to float\n",
    "demand['Dmd'] = demand['Dmd'].replace(regex=r',', value='.').astype(float)"
   ]
  },
  {
   "cell_type": "code",
   "execution_count": 34,
   "metadata": {},
   "outputs": [
    {
     "data": {
      "text/html": [
       "<div>\n",
       "<style scoped>\n",
       "    .dataframe tbody tr th:only-of-type {\n",
       "        vertical-align: middle;\n",
       "    }\n",
       "\n",
       "    .dataframe tbody tr th {\n",
       "        vertical-align: top;\n",
       "    }\n",
       "\n",
       "    .dataframe thead th {\n",
       "        text-align: right;\n",
       "    }\n",
       "</style>\n",
       "<table border=\"1\" class=\"dataframe\">\n",
       "  <thead>\n",
       "    <tr style=\"text-align: right;\">\n",
       "      <th></th>\n",
       "      <th>Low_Cap</th>\n",
       "      <th>High_Cap</th>\n",
       "    </tr>\n",
       "    <tr>\n",
       "      <th>Supply_Region</th>\n",
       "      <th></th>\n",
       "      <th></th>\n",
       "    </tr>\n",
       "  </thead>\n",
       "  <tbody>\n",
       "    <tr>\n",
       "      <th>USA</th>\n",
       "      <td>500</td>\n",
       "      <td>1500</td>\n",
       "    </tr>\n",
       "    <tr>\n",
       "      <th>Germany</th>\n",
       "      <td>500</td>\n",
       "      <td>1500</td>\n",
       "    </tr>\n",
       "    <tr>\n",
       "      <th>Japan</th>\n",
       "      <td>500</td>\n",
       "      <td>1500</td>\n",
       "    </tr>\n",
       "    <tr>\n",
       "      <th>Brazil</th>\n",
       "      <td>500</td>\n",
       "      <td>1500</td>\n",
       "    </tr>\n",
       "    <tr>\n",
       "      <th>India</th>\n",
       "      <td>500</td>\n",
       "      <td>1500</td>\n",
       "    </tr>\n",
       "  </tbody>\n",
       "</table>\n",
       "</div>"
      ],
      "text/plain": [
       "               Low_Cap  High_Cap\n",
       "Supply_Region                   \n",
       "USA                500      1500\n",
       "Germany            500      1500\n",
       "Japan              500      1500\n",
       "Brazil             500      1500\n",
       "India              500      1500"
      ]
     },
     "execution_count": 34,
     "metadata": {},
     "output_type": "execute_result"
    }
   ],
   "source": [
    "# import capacity data\n",
    "cap = pd.read_csv('../data/capacity.csv', \n",
    "                      sep=';',\n",
    "                      index_col='Supply_Region')\n",
    "cap.head()"
   ]
  },
  {
   "cell_type": "code",
   "execution_count": 35,
   "metadata": {},
   "outputs": [
    {
     "data": {
      "text/plain": [
       "Low_Cap     int64\n",
       "High_Cap    int64\n",
       "dtype: object"
      ]
     },
     "execution_count": 35,
     "metadata": {},
     "output_type": "execute_result"
    }
   ],
   "source": [
    "# check data type\n",
    "cap.dtypes"
   ]
  },
  {
   "cell_type": "code",
   "execution_count": 36,
   "metadata": {},
   "outputs": [],
   "source": [
    "loc = list(fix_cost.index)\n",
    "size = list(fix_cost.columns)"
   ]
  },
  {
   "cell_type": "code",
   "execution_count": 37,
   "metadata": {},
   "outputs": [
    {
     "name": "stderr",
     "output_type": "stream",
     "text": [
      "c:\\Users\\Sebas\\anaconda3\\envs\\optimization_env\\lib\\site-packages\\pulp\\pulp.py:1352: UserWarning:\n",
      "\n",
      "Spaces are not permitted in the name. Converted to '_'\n",
      "\n"
     ]
    }
   ],
   "source": [
    "# Initialize Class\n",
    "model = LpProblem(\"Capacitated Plant Location Model\", LpMinimize)\n",
    "\n",
    "# Define Decision Variables\n",
    "x = LpVariable.dicts(\"production_\", [(i,j) for i in loc for j in loc], lowBound=0, upBound=None, cat='Continuous') # fraction of e.g. thousands\n",
    "y = LpVariable.dicts(\"plant_\", [(i,s) for s in size for i in loc], cat='Binary') # is plant open or not\n"
   ]
  },
  {
   "cell_type": "code",
   "execution_count": 38,
   "metadata": {},
   "outputs": [],
   "source": [
    "# Define Objective Function\n",
    "model += (lpSum([fix_cost.loc[i,s]*y[(i,s)] for s in size for i in loc]) + lpSum([var_cost.loc[i,j]*x[(i,j)] for i in loc for j in loc]))"
   ]
  },
  {
   "cell_type": "code",
   "execution_count": 39,
   "metadata": {},
   "outputs": [],
   "source": [
    "# Define the Constraints\n",
    "for j in loc: \n",
    "    model += lpSum([x[(i, j)] for i in loc]) == demand.loc[j, 'Dmd'] # production must meet demand\n",
    "\n",
    "for i in loc: \n",
    "    model += lpSum([x[(i, j)] for j in loc]) <= lpSum([cap.loc[i,s]*y[(i,s)] for s in size]) # produce equal or below local capacity\n"
   ]
  },
  {
   "cell_type": "code",
   "execution_count": 40,
   "metadata": {},
   "outputs": [
    {
     "data": {
      "text/plain": [
       "1"
      ]
     },
     "execution_count": 40,
     "metadata": {},
     "output_type": "execute_result"
    }
   ],
   "source": [
    "# Solve\n",
    "model.solve()"
   ]
  },
  {
   "cell_type": "code",
   "execution_count": 42,
   "metadata": {},
   "outputs": [
    {
     "name": "stdout",
     "output_type": "stream",
     "text": [
      "Optimal\n",
      "                  prod   quant\n",
      "0           USA to USA  1500.0\n",
      "1       USA to Germany     0.0\n",
      "2         USA to Japan     0.0\n",
      "3        USA to Brazil     0.0\n",
      "4         USA to India     0.0\n",
      "5       Germany to USA     0.0\n",
      "6   Germany to Germany     0.0\n",
      "7     Germany to Japan     0.0\n",
      "8    Germany to Brazil     0.0\n",
      "9     Germany to India     0.0\n",
      "10        Japan to USA     0.0\n",
      "11    Japan to Germany     0.0\n",
      "12      Japan to Japan  1500.0\n",
      "13     Japan to Brazil     0.0\n",
      "14      Japan to India     0.0\n",
      "15       Brazil to USA  1219.6\n",
      "16   Brazil to Germany     0.0\n",
      "17     Brazil to Japan     0.0\n",
      "18    Brazil to Brazil   145.4\n",
      "19     Brazil to India     0.0\n",
      "20        India to USA     0.0\n",
      "21    India to Germany    84.1\n",
      "22      India to Japan   176.8\n",
      "23     India to Brazil     0.0\n",
      "24      India to India   156.4\n"
     ]
    }
   ],
   "source": [
    "# Print Decision Variables and Objective Value\n",
    "print(LpStatus[model.status])\n",
    "o = [{'prod':\"{} to {}\".format(i,j), 'quant':x[(i,j)].varValue} for i in loc for j in loc]\n",
    "print(pd.DataFrame(o))"
   ]
  },
  {
   "cell_type": "code",
   "execution_count": 43,
   "metadata": {},
   "outputs": [
    {
     "name": "stdout",
     "output_type": "stream",
     "text": [
      "       loc   lc   hc\n",
      "0      USA  0.0  1.0\n",
      "1  Germany  0.0  0.0\n",
      "2    Japan  0.0  1.0\n",
      "3   Brazil  0.0  1.0\n",
      "4    India  1.0  0.0\n"
     ]
    }
   ],
   "source": [
    "o = [{'loc':i, 'lc':y[(i,size[0])].varValue, 'hc':y[(i,size[1])].varValue} for i in loc]\n",
    "print(pd.DataFrame(o))"
   ]
  },
  {
   "cell_type": "code",
   "execution_count": 45,
   "metadata": {},
   "outputs": [
    {
     "name": "stdout",
     "output_type": "stream",
     "text": [
      "Production-Costs =  58850.899999999994\n"
     ]
    }
   ],
   "source": [
    "print(\"Production-Costs = \", value(model.objective))"
   ]
  },
  {
   "cell_type": "code",
   "execution_count": 46,
   "metadata": {},
   "outputs": [
    {
     "name": "stdout",
     "output_type": "stream",
     "text": [
      "   name  shadow price  slack\n",
      "0   _C1          12.0   -0.0\n",
      "1   _C2          13.0   -0.0\n",
      "2   _C3          10.0   -0.0\n",
      "3   _C4           8.0   -0.0\n",
      "4   _C5           8.0   -0.0\n",
      "5   _C6          -6.0   -0.0\n",
      "6   _C7          -7.0   -0.0\n",
      "7   _C8          -7.0   -0.0\n",
      "8   _C9           0.0  135.0\n",
      "9  _C10           0.0   82.7\n"
     ]
    }
   ],
   "source": [
    "# Print Shadow Price and Slack\n",
    "o = [{'name':name, 'shadow price':c.pi, 'slack': c.slack} for name, c in model.constraints.items()]\n",
    "print(pd.DataFrame(o))"
   ]
  },
  {
   "cell_type": "code",
   "execution_count": 51,
   "metadata": {},
   "outputs": [
    {
     "data": {
      "text/plain": [
       "Capacitated_Plant_Location_Model:\n",
       "MINIMIZE\n",
       "4730*plant__('Brazil',_'High_Cap') + 3230*plant__('Brazil',_'Low_Cap') + 7270*plant__('Germany',_'High_Cap') + 4980*plant__('Germany',_'Low_Cap') + 3080*plant__('India',_'High_Cap') + 2110*plant__('India',_'Low_Cap') + 9100*plant__('Japan',_'High_Cap') + 6230*plant__('Japan',_'Low_Cap') + 9500*plant__('USA',_'High_Cap') + 6500*plant__('USA',_'Low_Cap') + 8*production__('Brazil',_'Brazil') + 14*production__('Brazil',_'Germany') + 21*production__('Brazil',_'India') + 21*production__('Brazil',_'Japan') + 12*production__('Brazil',_'USA') + 14*production__('Germany',_'Brazil') + 6*production__('Germany',_'Germany') + 13*production__('Germany',_'India') + 14*production__('Germany',_'Japan') + 13*production__('Germany',_'USA') + 23*production__('India',_'Brazil') + 13*production__('India',_'Germany') + 8*production__('India',_'India') + 10*production__('India',_'Japan') + 22*production__('India',_'USA') + 21*production__('Japan',_'Brazil') + 14*production__('Japan',_'Germany') + 9*production__('Japan',_'India') + 3*production__('Japan',_'Japan') + 20*production__('Japan',_'USA') + 12*production__('USA',_'Brazil') + 13*production__('USA',_'Germany') + 17*production__('USA',_'India') + 20*production__('USA',_'Japan') + 6*production__('USA',_'USA') + 0\n",
       "SUBJECT TO\n",
       "_C1: production__('Brazil',_'USA') + production__('Germany',_'USA')\n",
       " + production__('India',_'USA') + production__('Japan',_'USA')\n",
       " + production__('USA',_'USA') = 2719.6\n",
       "\n",
       "_C2: production__('Brazil',_'Germany') + production__('Germany',_'Germany')\n",
       " + production__('India',_'Germany') + production__('Japan',_'Germany')\n",
       " + production__('USA',_'Germany') = 84.1\n",
       "\n",
       "_C3: production__('Brazil',_'Japan') + production__('Germany',_'Japan')\n",
       " + production__('India',_'Japan') + production__('Japan',_'Japan')\n",
       " + production__('USA',_'Japan') = 1676.8\n",
       "\n",
       "_C4: production__('Brazil',_'Brazil') + production__('Germany',_'Brazil')\n",
       " + production__('India',_'Brazil') + production__('Japan',_'Brazil')\n",
       " + production__('USA',_'Brazil') = 145.4\n",
       "\n",
       "_C5: production__('Brazil',_'India') + production__('Germany',_'India')\n",
       " + production__('India',_'India') + production__('Japan',_'India')\n",
       " + production__('USA',_'India') = 156.4\n",
       "\n",
       "_C6: - 1500 plant__('USA',_'High_Cap') - 500 plant__('USA',_'Low_Cap')\n",
       " + production__('USA',_'Brazil') + production__('USA',_'Germany')\n",
       " + production__('USA',_'India') + production__('USA',_'Japan')\n",
       " + production__('USA',_'USA') <= 0\n",
       "\n",
       "_C7: - 1500 plant__('Germany',_'High_Cap') - 500 plant__('Germany',_'Low_Cap')\n",
       " + production__('Germany',_'Brazil') + production__('Germany',_'Germany')\n",
       " + production__('Germany',_'India') + production__('Germany',_'Japan')\n",
       " + production__('Germany',_'USA') <= 0\n",
       "\n",
       "_C8: - 1500 plant__('Japan',_'High_Cap') - 500 plant__('Japan',_'Low_Cap')\n",
       " + production__('Japan',_'Brazil') + production__('Japan',_'Germany')\n",
       " + production__('Japan',_'India') + production__('Japan',_'Japan')\n",
       " + production__('Japan',_'USA') <= 0\n",
       "\n",
       "_C9: - 1500 plant__('Brazil',_'High_Cap') - 500 plant__('Brazil',_'Low_Cap')\n",
       " + production__('Brazil',_'Brazil') + production__('Brazil',_'Germany')\n",
       " + production__('Brazil',_'India') + production__('Brazil',_'Japan')\n",
       " + production__('Brazil',_'USA') <= 0\n",
       "\n",
       "_C10: - 1500 plant__('India',_'High_Cap') - 500 plant__('India',_'Low_Cap')\n",
       " + production__('India',_'Brazil') + production__('India',_'Germany')\n",
       " + production__('India',_'India') + production__('India',_'Japan')\n",
       " + production__('India',_'USA') <= 0\n",
       "\n",
       "VARIABLES\n",
       "0 <= plant__('Brazil',_'High_Cap') <= 1 Integer\n",
       "0 <= plant__('Brazil',_'Low_Cap') <= 1 Integer\n",
       "0 <= plant__('Germany',_'High_Cap') <= 1 Integer\n",
       "0 <= plant__('Germany',_'Low_Cap') <= 1 Integer\n",
       "0 <= plant__('India',_'High_Cap') <= 1 Integer\n",
       "0 <= plant__('India',_'Low_Cap') <= 1 Integer\n",
       "0 <= plant__('Japan',_'High_Cap') <= 1 Integer\n",
       "0 <= plant__('Japan',_'Low_Cap') <= 1 Integer\n",
       "0 <= plant__('USA',_'High_Cap') <= 1 Integer\n",
       "0 <= plant__('USA',_'Low_Cap') <= 1 Integer\n",
       "production__('Brazil',_'Brazil') Continuous\n",
       "production__('Brazil',_'Germany') Continuous\n",
       "production__('Brazil',_'India') Continuous\n",
       "production__('Brazil',_'Japan') Continuous\n",
       "production__('Brazil',_'USA') Continuous\n",
       "production__('Germany',_'Brazil') Continuous\n",
       "production__('Germany',_'Germany') Continuous\n",
       "production__('Germany',_'India') Continuous\n",
       "production__('Germany',_'Japan') Continuous\n",
       "production__('Germany',_'USA') Continuous\n",
       "production__('India',_'Brazil') Continuous\n",
       "production__('India',_'Germany') Continuous\n",
       "production__('India',_'India') Continuous\n",
       "production__('India',_'Japan') Continuous\n",
       "production__('India',_'USA') Continuous\n",
       "production__('Japan',_'Brazil') Continuous\n",
       "production__('Japan',_'Germany') Continuous\n",
       "production__('Japan',_'India') Continuous\n",
       "production__('Japan',_'Japan') Continuous\n",
       "production__('Japan',_'USA') Continuous\n",
       "production__('USA',_'Brazil') Continuous\n",
       "production__('USA',_'Germany') Continuous\n",
       "production__('USA',_'India') Continuous\n",
       "production__('USA',_'Japan') Continuous\n",
       "production__('USA',_'USA') Continuous"
      ]
     },
     "execution_count": 51,
     "metadata": {},
     "output_type": "execute_result"
    }
   ],
   "source": [
    "model\n"
   ]
  },
  {
   "cell_type": "code",
   "execution_count": null,
   "metadata": {},
   "outputs": [],
   "source": []
  }
 ],
 "metadata": {
  "kernelspec": {
   "display_name": "Python 3.8.13 ('optimization_env')",
   "language": "python",
   "name": "python3"
  },
  "language_info": {
   "codemirror_mode": {
    "name": "ipython",
    "version": 3
   },
   "file_extension": ".py",
   "mimetype": "text/x-python",
   "name": "python",
   "nbconvert_exporter": "python",
   "pygments_lexer": "ipython3",
   "version": "3.8.13"
  },
  "orig_nbformat": 4,
  "vscode": {
   "interpreter": {
    "hash": "a10d46180120b59c9e44a8a1d393aa65e41ee54df606ccc999778b21e31afef7"
   }
  }
 },
 "nbformat": 4,
 "nbformat_minor": 2
}
