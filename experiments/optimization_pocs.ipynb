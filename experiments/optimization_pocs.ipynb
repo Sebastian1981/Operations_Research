{
 "cells": [
  {
   "cell_type": "markdown",
   "metadata": {},
   "source": [
    "# Let´s do some explorations on different optimization use cases\n",
    "\n",
    "Ressources: https://towardsdatascience.com/how-to-develop-optimization-models-in-python-1a03ef72f5b4"
   ]
  },
  {
   "cell_type": "code",
   "execution_count": 5,
   "metadata": {},
   "outputs": [],
   "source": [
    "import numpy as np\n",
    "import pandas as pd\n",
    "import matplotlib.pyplot as plt"
   ]
  },
  {
   "cell_type": "markdown",
   "metadata": {},
   "source": [
    "## Use Case 1:\n",
    "- A bakery makes cakes and pies every day. \n",
    "- It can make a total of 30 items in one day, which at least must be 5 cakes and 10 pies for its planned customers. \n",
    "- The profit on each cake is $1.5 and the profit on each pie is $2.00. \n",
    "- How many cakes and pies should be made to maximize the profit?"
   ]
  },
  {
   "cell_type": "markdown",
   "metadata": {},
   "source": [
    "### Solution Approach #1: Monte-Carlo Simulation using Random Search"
   ]
  },
  {
   "cell_type": "code",
   "execution_count": 6,
   "metadata": {},
   "outputs": [
    {
     "name": "stdout",
     "output_type": "stream",
     "text": [
      "The bakery should bake 25 pies and 5 cakes to maximize profit of 57.5 $\n"
     ]
    }
   ],
   "source": [
    "cakes = []\n",
    "pies = []\n",
    "profits = []\n",
    "n = 100\n",
    "# loop over random number of cakes between 0<= c <=30\n",
    "for _ in range(n):\n",
    "    c = int(np.random.uniform(low=0, high=30, size=1)) \n",
    "    # loop over random number of pies between 0<= p <=30\n",
    "    for _ in range(n):\n",
    "        p = int(np.random.uniform(low=0, high=30, size=1))\n",
    "        # check boundary conditions\n",
    "        if c + p <= 30 and c>=5 and p>=10:\n",
    "            profit = 1.5*c + 2.0*p\n",
    "            cakes.append(c)\n",
    "            pies.append(p)\n",
    "            profits.append(profit)\n",
    "\n",
    "# make dataframe\n",
    "d = {'cakes': cakes, 'pies': pies, 'profit': profits}\n",
    "mcs_results = pd.DataFrame(data=d)\n",
    "# drop duplicates\n",
    "mcs_results = mcs_results.drop_duplicates()\n",
    "# sort by profits\n",
    "mcs_results = mcs_results.sort_values(by='profit', ascending=False) \n",
    "# find best parameters to optimize profit\n",
    "p_opt = int(mcs_results.iloc[0,:].pies)\n",
    "c_opt  = int(mcs_results.iloc[0,:].cakes)\n",
    "profit_max = mcs_results.iloc[0,:].profit\n",
    "print('The bakery should bake {} pies and {} cakes to maximize profit of {} $'.format(p_opt, c_opt, profit_max))         "
   ]
  },
  {
   "cell_type": "code",
   "execution_count": 10,
   "metadata": {},
   "outputs": [
    {
     "data": {
      "text/html": [
       "<div>\n",
       "<style scoped>\n",
       "    .dataframe tbody tr th:only-of-type {\n",
       "        vertical-align: middle;\n",
       "    }\n",
       "\n",
       "    .dataframe tbody tr th {\n",
       "        vertical-align: top;\n",
       "    }\n",
       "\n",
       "    .dataframe thead th {\n",
       "        text-align: right;\n",
       "    }\n",
       "</style>\n",
       "<table border=\"1\" class=\"dataframe\">\n",
       "  <thead>\n",
       "    <tr style=\"text-align: right;\">\n",
       "      <th></th>\n",
       "      <th>cakes</th>\n",
       "      <th>pies</th>\n",
       "      <th>profit</th>\n",
       "    </tr>\n",
       "  </thead>\n",
       "  <tbody>\n",
       "    <tr>\n",
       "      <th>940</th>\n",
       "      <td>5</td>\n",
       "      <td>25</td>\n",
       "      <td>57.5</td>\n",
       "    </tr>\n",
       "    <tr>\n",
       "      <th>645</th>\n",
       "      <td>6</td>\n",
       "      <td>24</td>\n",
       "      <td>57.0</td>\n",
       "    </tr>\n",
       "    <tr>\n",
       "      <th>374</th>\n",
       "      <td>7</td>\n",
       "      <td>23</td>\n",
       "      <td>56.5</td>\n",
       "    </tr>\n",
       "    <tr>\n",
       "      <th>317</th>\n",
       "      <td>8</td>\n",
       "      <td>22</td>\n",
       "      <td>56.0</td>\n",
       "    </tr>\n",
       "    <tr>\n",
       "      <th>198</th>\n",
       "      <td>9</td>\n",
       "      <td>21</td>\n",
       "      <td>55.5</td>\n",
       "    </tr>\n",
       "    <tr>\n",
       "      <th>928</th>\n",
       "      <td>5</td>\n",
       "      <td>24</td>\n",
       "      <td>55.5</td>\n",
       "    </tr>\n",
       "    <tr>\n",
       "      <th>12</th>\n",
       "      <td>10</td>\n",
       "      <td>20</td>\n",
       "      <td>55.0</td>\n",
       "    </tr>\n",
       "    <tr>\n",
       "      <th>653</th>\n",
       "      <td>6</td>\n",
       "      <td>23</td>\n",
       "      <td>55.0</td>\n",
       "    </tr>\n",
       "    <tr>\n",
       "      <th>365</th>\n",
       "      <td>7</td>\n",
       "      <td>22</td>\n",
       "      <td>54.5</td>\n",
       "    </tr>\n",
       "    <tr>\n",
       "      <th>87</th>\n",
       "      <td>11</td>\n",
       "      <td>19</td>\n",
       "      <td>54.5</td>\n",
       "    </tr>\n",
       "  </tbody>\n",
       "</table>\n",
       "</div>"
      ],
      "text/plain": [
       "     cakes  pies  profit\n",
       "940      5    25    57.5\n",
       "645      6    24    57.0\n",
       "374      7    23    56.5\n",
       "317      8    22    56.0\n",
       "198      9    21    55.5\n",
       "928      5    24    55.5\n",
       "12      10    20    55.0\n",
       "653      6    23    55.0\n",
       "365      7    22    54.5\n",
       "87      11    19    54.5"
      ]
     },
     "execution_count": 10,
     "metadata": {},
     "output_type": "execute_result"
    }
   ],
   "source": [
    "# find maximum profit\n",
    "mcs_results.head(10)"
   ]
  },
  {
   "cell_type": "code",
   "execution_count": null,
   "metadata": {},
   "outputs": [],
   "source": []
  },
  {
   "cell_type": "code",
   "execution_count": null,
   "metadata": {},
   "outputs": [],
   "source": []
  },
  {
   "cell_type": "code",
   "execution_count": null,
   "metadata": {},
   "outputs": [],
   "source": []
  },
  {
   "cell_type": "code",
   "execution_count": 8,
   "metadata": {},
   "outputs": [],
   "source": [
    "# let´s translate into variables, constraints and an objective function to be minimized or maximized\n",
    "\n"
   ]
  }
 ],
 "metadata": {
  "kernelspec": {
   "display_name": "Python 3.8.13 ('optimization_env')",
   "language": "python",
   "name": "python3"
  },
  "language_info": {
   "codemirror_mode": {
    "name": "ipython",
    "version": 3
   },
   "file_extension": ".py",
   "mimetype": "text/x-python",
   "name": "python",
   "nbconvert_exporter": "python",
   "pygments_lexer": "ipython3",
   "version": "3.8.13"
  },
  "orig_nbformat": 4,
  "vscode": {
   "interpreter": {
    "hash": "f55b5a300cecb6210652878708d8714170b7a51543f134b54274782bfeeeb136"
   }
  }
 },
 "nbformat": 4,
 "nbformat_minor": 2
}
